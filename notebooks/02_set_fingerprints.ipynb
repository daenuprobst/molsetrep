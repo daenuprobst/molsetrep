{
 "cells": [
  {
   "cell_type": "code",
   "execution_count": 4,
   "metadata": {},
   "outputs": [],
   "source": [
    "import torch\n",
    "import numpy as np\n",
    "\n",
    "from torch.utils.data import DataLoader\n",
    "from torcheval.metrics import BinaryAccuracy, BinaryAUROC\n",
    "from torchmetrics.regression import R2Score, MeanSquaredError, MeanAbsoluteError\n",
    "\n",
    "from molsetrep.utils.torch_trainer import TorchTrainer\n",
    "from molsetrep.utils.datasets import molnet_loader\n",
    "from molsetrep.utils.converters import molnet_to_pyg\n",
    "from molsetrep.utils.root_mean_squared_error import RootMeanSquaredError\n",
    "from molsetrep.utils.imbalanced_sampler import ImbalancedSampler\n",
    "from molsetrep.models import SetRepClassifier, SetRepRegressor\n",
    "from molsetrep.encoders import SECMQNFPEncoder, SECFPEncoder, Mol2VecEncoder, Mol2SetEncoder\n",
    "\n",
    "from sklearn.preprocessing import StandardScaler\n"
   ]
  },
  {
   "attachments": {},
   "cell_type": "markdown",
   "metadata": {},
   "source": [
    "# SECMQNFP"
   ]
  },
  {
   "attachments": {},
   "cell_type": "markdown",
   "metadata": {},
   "source": [
    "## Classification"
   ]
  },
  {
   "cell_type": "code",
   "execution_count": 2,
   "metadata": {},
   "outputs": [],
   "source": [
    "train, valid, test = molnet_loader(\"bbbp\", splitter=\"scaffold\")\n",
    "enc = SECMQNFPEncoder()\n",
    "\n",
    "train_dataset, valid_dataset, test_dataset = enc.encode(\n",
    "    (train.ids, valid.ids, test.ids), \n",
    "    ([y[0] for y in train.y], [y[0] for y in valid.y], [y[0] for y in test.y]), \n",
    "    label_dtype=torch.long, standardize=False, radius=2, min_radius=0\n",
    ")\n",
    "\n",
    "train_loader = DataLoader(train_dataset, batch_size=128, sampler=ImbalancedSampler(train_dataset))\n",
    "valid_loader = DataLoader(valid_dataset, batch_size=128)\n",
    "test_loader = DataLoader(test_dataset, batch_size=128)"
   ]
  },
  {
   "cell_type": "code",
   "execution_count": 3,
   "metadata": {},
   "outputs": [
    {
     "name": "stdout",
     "output_type": "stream",
     "text": [
      "{'best_epoch': 200, 'loss': 0.8124533891677856, 'BinaryAccuracy': 0.6127451062202454, 'BinaryAUROC': 0.6057905385875325}\n",
      "{'best_epoch': 109, 'loss': 0.7147619724273682, 'BinaryAccuracy': 0.4852941036224365, 'BinaryAUROC': 0.4977839868966182}\n",
      "{'best_epoch': 23, 'loss': 0.6919282674789429, 'BinaryAccuracy': 0.4803921580314636, 'BinaryAUROC': 0.5046728971962616}\n",
      "{'best_epoch': 200, 'loss': 0.8313210606575012, 'BinaryAccuracy': 0.6225489974021912, 'BinaryAUROC': 0.6117641391270835}\n",
      "{'best_epoch': 188, 'loss': 0.8055750131607056, 'BinaryAccuracy': 0.6225489974021912, 'BinaryAUROC': 0.6117641391270835}\n",
      "Mean 0.5663551401869159\n",
      "Std 0.0532650113684983\n"
     ]
    }
   ],
   "source": [
    "d = 42\n",
    "\n",
    "torch.manual_seed(1)\n",
    "\n",
    "results = []\n",
    "for _ in range(5):\n",
    "    model = SetRepClassifier(1, 1, d, 2)\n",
    "\n",
    "    optimizer = torch.optim.Adam(model.parameters(), lr=0.001)\n",
    "    # scheduler = torch.optim.lr_scheduler.ExponentialLR(optimizer, gamma=0.9)\n",
    "    criterion = torch.nn.NLLLoss()\n",
    "    \n",
    "    trainer = TorchTrainer(\n",
    "        model,\n",
    "        optimizer,\n",
    "        criterion,\n",
    "        200,\n",
    "        [BinaryAccuracy(), BinaryAUROC()],\n",
    "        [BinaryAccuracy(), BinaryAUROC()],\n",
    "        [BinaryAccuracy(), BinaryAUROC()],\n",
    "        # scheduler=scheduler,\n",
    "        # monitor_metric=1,\n",
    "        # monitor_lower_is_better=False,\n",
    "        silent=True\n",
    "    )\n",
    "\n",
    "    trainer.train(train_loader, valid_loader)\n",
    "    r = trainer.test(test_loader)[0]\n",
    "    print(r)\n",
    "    results.append(r[\"BinaryAUROC\"])\n",
    "\n",
    "print(\"Mean\", np.mean(results))\n",
    "print(\"Std\", np.std(results))\n",
    "\n",
    "# 100 epochs\n",
    "# {'best_epoch': 90, 'loss': 0.8859325647354126, 'BinaryAccuracy': 0.6715686321258545, 'BinaryAUROC': 0.6671644667116292}\n",
    "# {'best_epoch': 100, 'loss': 0.8769419193267822, 'BinaryAccuracy': 0.6911764740943909, 'BinaryAUROC': 0.6868195394546681}\n",
    "# {'best_epoch': 85, 'loss': 0.8609354496002197, 'BinaryAccuracy': 0.6519607901573181, 'BinaryAUROC': 0.6446189420946141}\n",
    "# {'best_epoch': 100, 'loss': 0.8549694418907166, 'BinaryAccuracy': 0.6323529481887817, 'BinaryAUROC': 0.6249638693515753}\n",
    "# {'best_epoch': 98, 'loss': 0.7837579846382141, 'BinaryAccuracy': 0.6813725233078003, 'BinaryAUROC': 0.6755467771461605}\n",
    "# Mean 0.6598227189517295\n",
    "# Std 0.022254302099624954\n",
    "\n",
    "# 200 epochs\n",
    "# {'best_epoch': 197, 'loss': 0.9870814085006714, 'BinaryAccuracy': 0.6813725233078003, 'BinaryAUROC': 0.6760285191251566}\n",
    "# {'best_epoch': 173, 'loss': 0.9504050612449646, 'BinaryAccuracy': 0.6274510025978088, 'BinaryAUROC': 0.6217361980923017}\n",
    "# {'best_epoch': 93, 'loss': 0.9911300539970398, 'BinaryAccuracy': 0.6323529481887817, 'BinaryAUROC': 0.6283360632045476}\n",
    "# {'best_epoch': 76, 'loss': 0.9773973226547241, 'BinaryAccuracy': 0.6813725233078003, 'BinaryAUROC': 0.6794007129781289}\n",
    "# {'best_epoch': 188, 'loss': 0.8548866510391235, 'BinaryAccuracy': 0.686274528503418, 'BinaryAUROC': 0.6831101262163985}\n",
    "# Mean 0.6577223239233068\n",
    "# Std 0.026863221740548518\n",
    "\n",
    "# 180 epochs (all the same as with 200) gives different results:\n",
    "# {'best_epoch': 177, 'loss': 0.9327479600906372, 'BinaryAccuracy': 0.6617646813392639, 'BinaryAUROC': 0.6583004142981019}\n",
    "# {'best_epoch': 176, 'loss': 0.8896770477294922, 'BinaryAccuracy': 0.6715686321258545, 'BinaryAUROC': 0.6652374987956451}\n",
    "# {'best_epoch': 158, 'loss': 0.950018048286438, 'BinaryAccuracy': 0.6764705777168274, 'BinaryAUROC': 0.6699103959919067}\n",
    "# {'best_epoch': 167, 'loss': 0.9776877164840698, 'BinaryAccuracy': 0.6715686321258545, 'BinaryAUROC': 0.6657192407746411}\n",
    "# {'best_epoch': 117, 'loss': 0.9929808378219604, 'BinaryAccuracy': 0.656862735748291, 'BinaryAUROC': 0.6521822911648522}\n",
    "# Mean 0.6622699682050295\n",
    "# Std 0.0062705413182455715"
   ]
  },
  {
   "attachments": {},
   "cell_type": "markdown",
   "metadata": {},
   "source": [
    "## Regression"
   ]
  },
  {
   "cell_type": "code",
   "execution_count": 4,
   "metadata": {},
   "outputs": [],
   "source": [
    "train, valid, test = molnet_loader(\"lipo\")\n",
    "enc = SECMQNFPEncoder()\n",
    "\n",
    "train_dataset, valid_dataset, test_dataset = enc.encode(\n",
    "    (train.ids, valid.ids, test.ids), \n",
    "    ([y[0] for y in train.y], [y[0] for y in valid.y], [y[0] for y in test.y]), \n",
    "    label_dtype=torch.float, standardize=False\n",
    ")\n",
    "\n",
    "train_loader = DataLoader(train_dataset, batch_size=64)\n",
    "valid_loader = DataLoader(valid_dataset, batch_size=64)\n",
    "test_loader = DataLoader(test_dataset, batch_size=64)"
   ]
  },
  {
   "cell_type": "code",
   "execution_count": null,
   "metadata": {},
   "outputs": [],
   "source": [
    "d = 42\n",
    "model = SetRepRegressor(8, 32, d)\n",
    "\n",
    "optimizer = torch.optim.Adam(model.parameters(), lr=0.01)\n",
    "scheduler = torch.optim.lr_scheduler.ExponentialLR(optimizer, gamma=0.95)\n",
    "criterion = torch.nn.MSELoss()\n",
    "\n",
    "trainer = TorchTrainer(\n",
    "    model,\n",
    "    optimizer,\n",
    "    criterion,\n",
    "    200,\n",
    "    [R2Score(), RootMeanSquaredError()],\n",
    "    [R2Score(), RootMeanSquaredError()],\n",
    "    [R2Score(), RootMeanSquaredError()],\n",
    "    scheduler=scheduler,\n",
    "    monitor_metric=1,\n",
    "    monitor_lower_is_better=True\n",
    ")\n",
    "\n",
    "trainer.train(train_loader, valid_loader)\n",
    "trainer.test(test_loader)"
   ]
  },
  {
   "attachments": {},
   "cell_type": "markdown",
   "metadata": {},
   "source": [
    "# SECFP"
   ]
  },
  {
   "attachments": {},
   "cell_type": "markdown",
   "metadata": {},
   "source": [
    "## Classification"
   ]
  },
  {
   "cell_type": "code",
   "execution_count": 4,
   "metadata": {},
   "outputs": [
    {
     "name": "stderr",
     "output_type": "stream",
     "text": [
      "                                                                                        \r"
     ]
    }
   ],
   "source": [
    "train, valid, test = molnet_loader(\"bace_classification\")\n",
    "graph_embedder = SECFPEncoder.fit(train.ids)\n",
    "\n",
    "enc = SECFPEncoder()\n",
    "\n",
    "train_dataset = enc.encode(train.ids, [y[0] for y in train.y], label_dtype=torch.long, graph_embedder=graph_embedder, pretrained_graph_embedder=True)\n",
    "valid_dataset = enc.encode(valid.ids, [y[0] for y in valid.y], label_dtype=torch.long, graph_embedder=graph_embedder, pretrained_graph_embedder=True)\n",
    "test_dataset = enc.encode(test.ids, [y[0] for y in test.y], label_dtype=torch.long, graph_embedder=graph_embedder, pretrained_graph_embedder=True)\n",
    "\n",
    "train_loader = DataLoader(train_dataset, batch_size=64, sampler=ImbalancedSampler(train_dataset))\n",
    "valid_loader = DataLoader(valid_dataset, batch_size=64)\n",
    "test_loader = DataLoader(test_dataset, batch_size=64)"
   ]
  },
  {
   "cell_type": "code",
   "execution_count": null,
   "metadata": {},
   "outputs": [],
   "source": [
    "d = 500\n",
    "model = SetRepClassifier(2, 8, d, 2)\n",
    "\n",
    "optimizer = torch.optim.Adam(model.parameters(), lr=0.00001)\n",
    "scheduler = torch.optim.lr_scheduler.ExponentialLR(optimizer, gamma=0.9)\n",
    "criterion = torch.nn.NLLLoss()\n",
    "\n",
    "trainer = TorchTrainer(\n",
    "    model,\n",
    "    optimizer,\n",
    "    criterion,\n",
    "    60,\n",
    "    [BinaryAccuracy(), BinaryAUROC()],\n",
    "    [BinaryAccuracy(), BinaryAUROC()],\n",
    "    [BinaryAccuracy(), BinaryAUROC()],\n",
    "    # scheduler=scheduler,\n",
    "    monitor_metric=1,\n",
    "    monitor_lower_is_better=False\n",
    ")\n",
    "\n",
    "trainer.train(train_loader, valid_loader)\n",
    "trainer.test(test_loader)"
   ]
  },
  {
   "attachments": {},
   "cell_type": "markdown",
   "metadata": {},
   "source": [
    "## Regression"
   ]
  },
  {
   "cell_type": "code",
   "execution_count": null,
   "metadata": {},
   "outputs": [],
   "source": []
  },
  {
   "attachments": {},
   "cell_type": "markdown",
   "metadata": {},
   "source": [
    "# Mol2Vec"
   ]
  },
  {
   "attachments": {},
   "cell_type": "markdown",
   "metadata": {},
   "source": [
    "## Classification"
   ]
  },
  {
   "cell_type": "code",
   "execution_count": 19,
   "metadata": {},
   "outputs": [],
   "source": [
    "train, valid, test = molnet_loader(\"bbbp\")\n",
    "enc = Mol2SetEncoder()\n",
    "\n",
    "train_dataset = enc.encode(train.ids, [y[0] for y in train.y], label_dtype=torch.long)\n",
    "valid_dataset = enc.encode(valid.ids, [y[0] for y in valid.y], label_dtype=torch.long)\n",
    "test_dataset = enc.encode(test.ids, [y[0] for y in test.y], label_dtype=torch.long)\n",
    "\n",
    "train_loader = DataLoader(train_dataset, batch_size=128, sampler=ImbalancedSampler(train_dataset))\n",
    "valid_loader = DataLoader(valid_dataset, batch_size=128)\n",
    "test_loader = DataLoader(test_dataset, batch_size=128)"
   ]
  },
  {
   "cell_type": "code",
   "execution_count": 20,
   "metadata": {},
   "outputs": [
    {
     "name": "stdout",
     "output_type": "stream",
     "text": [
      "*  Epoch 1: Train loss: 0.786 (BinaryAccuracy: 0.442, BinaryAUROC: 0.448)  Valid loss: 0.696 (BinaryAccuracy: 0.574, BinaryAUROC: 0.571)\n",
      "*  Epoch 2: Train loss: 0.649 (BinaryAccuracy: 0.668, BinaryAUROC: 0.671)  Valid loss: 0.462 (BinaryAccuracy: 0.765, BinaryAUROC: 0.785)\n",
      "*  Epoch 3: Train loss: 0.566 (BinaryAccuracy: 0.729, BinaryAUROC: 0.725)  Valid loss: 0.411 (BinaryAccuracy: 0.828, BinaryAUROC: 0.842)\n",
      "*  Epoch 4: Train loss: 0.544 (BinaryAccuracy: 0.72, BinaryAUROC: 0.719)  Valid loss: 0.359 (BinaryAccuracy: 0.897, BinaryAUROC: 0.897)\n",
      "|  Epoch 5: Train loss: 0.506 (BinaryAccuracy: 0.757, BinaryAUROC: 0.759)  Valid loss: 0.372 (BinaryAccuracy: 0.882, BinaryAUROC: 0.877)\n",
      "*  Epoch 6: Train loss: 0.459 (BinaryAccuracy: 0.786, BinaryAUROC: 0.784)  Valid loss: 0.319 (BinaryAccuracy: 0.902, BinaryAUROC: 0.904)\n",
      "|  Epoch 7: Train loss: 0.424 (BinaryAccuracy: 0.82, BinaryAUROC: 0.82)  Valid loss: 0.297 (BinaryAccuracy: 0.897, BinaryAUROC: 0.899)\n",
      "|  Epoch 8: Train loss: 0.411 (BinaryAccuracy: 0.825, BinaryAUROC: 0.824)  Valid loss: 0.264 (BinaryAccuracy: 0.892, BinaryAUROC: 0.895)\n",
      "*  Epoch 9: Train loss: 0.393 (BinaryAccuracy: 0.833, BinaryAUROC: 0.835)  Valid loss: 0.276 (BinaryAccuracy: 0.917, BinaryAUROC: 0.917)\n",
      "|  Epoch 10: Train loss: 0.36 (BinaryAccuracy: 0.849, BinaryAUROC: 0.849)  Valid loss: 0.267 (BinaryAccuracy: 0.917, BinaryAUROC: 0.916)\n",
      "|  Epoch 11: Train loss: 0.338 (BinaryAccuracy: 0.861, BinaryAUROC: 0.861)  Valid loss: 0.249 (BinaryAccuracy: 0.897, BinaryAUROC: 0.9)\n",
      "*  Epoch 12: Train loss: 0.333 (BinaryAccuracy: 0.856, BinaryAUROC: 0.857)  Valid loss: 0.244 (BinaryAccuracy: 0.926, BinaryAUROC: 0.926)\n",
      "|  Epoch 13: Train loss: 0.345 (BinaryAccuracy: 0.86, BinaryAUROC: 0.858)  Valid loss: 0.246 (BinaryAccuracy: 0.922, BinaryAUROC: 0.923)\n",
      "|  Epoch 14: Train loss: 0.318 (BinaryAccuracy: 0.872, BinaryAUROC: 0.873)  Valid loss: 0.242 (BinaryAccuracy: 0.912, BinaryAUROC: 0.914)\n",
      "|  Epoch 15: Train loss: 0.313 (BinaryAccuracy: 0.873, BinaryAUROC: 0.873)  Valid loss: 0.267 (BinaryAccuracy: 0.907, BinaryAUROC: 0.907)\n",
      "|  Epoch 16: Train loss: 0.28 (BinaryAccuracy: 0.885, BinaryAUROC: 0.885)  Valid loss: 0.249 (BinaryAccuracy: 0.922, BinaryAUROC: 0.919)\n",
      "|  Epoch 17: Train loss: 0.243 (BinaryAccuracy: 0.906, BinaryAUROC: 0.906)  Valid loss: 0.229 (BinaryAccuracy: 0.922, BinaryAUROC: 0.924)\n",
      "|  Epoch 18: Train loss: 0.274 (BinaryAccuracy: 0.902, BinaryAUROC: 0.902)  Valid loss: 0.242 (BinaryAccuracy: 0.926, BinaryAUROC: 0.925)\n",
      "|  Epoch 19: Train loss: 0.248 (BinaryAccuracy: 0.907, BinaryAUROC: 0.907)  Valid loss: 0.265 (BinaryAccuracy: 0.917, BinaryAUROC: 0.913)\n",
      "|  Epoch 20: Train loss: 0.233 (BinaryAccuracy: 0.918, BinaryAUROC: 0.919)  Valid loss: 0.241 (BinaryAccuracy: 0.907, BinaryAUROC: 0.91)\n",
      "|  Epoch 21: Train loss: 0.233 (BinaryAccuracy: 0.913, BinaryAUROC: 0.913)  Valid loss: 0.25 (BinaryAccuracy: 0.917, BinaryAUROC: 0.915)\n",
      "|  Epoch 22: Train loss: 0.211 (BinaryAccuracy: 0.925, BinaryAUROC: 0.925)  Valid loss: 0.33 (BinaryAccuracy: 0.877, BinaryAUROC: 0.869)\n",
      "|  Epoch 23: Train loss: 0.218 (BinaryAccuracy: 0.923, BinaryAUROC: 0.923)  Valid loss: 0.244 (BinaryAccuracy: 0.907, BinaryAUROC: 0.903)\n",
      "|  Epoch 24: Train loss: 0.213 (BinaryAccuracy: 0.928, BinaryAUROC: 0.928)  Valid loss: 0.257 (BinaryAccuracy: 0.902, BinaryAUROC: 0.899)\n",
      "|  Epoch 25: Train loss: 0.215 (BinaryAccuracy: 0.925, BinaryAUROC: 0.925)  Valid loss: 0.358 (BinaryAccuracy: 0.873, BinaryAUROC: 0.865)\n",
      "|  Epoch 26: Train loss: 0.199 (BinaryAccuracy: 0.929, BinaryAUROC: 0.929)  Valid loss: 0.255 (BinaryAccuracy: 0.917, BinaryAUROC: 0.913)\n",
      "|  Epoch 27: Train loss: 0.182 (BinaryAccuracy: 0.931, BinaryAUROC: 0.93)  Valid loss: 0.25 (BinaryAccuracy: 0.922, BinaryAUROC: 0.921)\n",
      "|  Epoch 28: Train loss: 0.179 (BinaryAccuracy: 0.928, BinaryAUROC: 0.928)  Valid loss: 0.247 (BinaryAccuracy: 0.922, BinaryAUROC: 0.921)\n",
      "|  Epoch 29: Train loss: 0.17 (BinaryAccuracy: 0.936, BinaryAUROC: 0.936)  Valid loss: 0.412 (BinaryAccuracy: 0.863, BinaryAUROC: 0.853)\n",
      "|  Epoch 30: Train loss: 0.164 (BinaryAccuracy: 0.945, BinaryAUROC: 0.945)  Valid loss: 0.338 (BinaryAccuracy: 0.882, BinaryAUROC: 0.875)\n",
      "|  Epoch 31: Train loss: 0.165 (BinaryAccuracy: 0.936, BinaryAUROC: 0.936)  Valid loss: 0.349 (BinaryAccuracy: 0.882, BinaryAUROC: 0.875)\n",
      "|  Epoch 32: Train loss: 0.162 (BinaryAccuracy: 0.941, BinaryAUROC: 0.941)  Valid loss: 0.331 (BinaryAccuracy: 0.868, BinaryAUROC: 0.867)\n",
      "|  Epoch 33: Train loss: 0.15 (BinaryAccuracy: 0.942, BinaryAUROC: 0.942)  Valid loss: 0.35 (BinaryAccuracy: 0.877, BinaryAUROC: 0.871)\n",
      "|  Epoch 34: Train loss: 0.167 (BinaryAccuracy: 0.942, BinaryAUROC: 0.941)  Valid loss: 0.31 (BinaryAccuracy: 0.868, BinaryAUROC: 0.867)\n",
      "|  Epoch 35: Train loss: 0.156 (BinaryAccuracy: 0.943, BinaryAUROC: 0.943)  Valid loss: 0.481 (BinaryAccuracy: 0.887, BinaryAUROC: 0.879)\n",
      "|  Epoch 36: Train loss: 0.152 (BinaryAccuracy: 0.946, BinaryAUROC: 0.946)  Valid loss: 0.514 (BinaryAccuracy: 0.853, BinaryAUROC: 0.841)\n",
      "|  Epoch 37: Train loss: 0.142 (BinaryAccuracy: 0.952, BinaryAUROC: 0.951)  Valid loss: 0.371 (BinaryAccuracy: 0.882, BinaryAUROC: 0.875)\n",
      "|  Epoch 38: Train loss: 0.158 (BinaryAccuracy: 0.942, BinaryAUROC: 0.942)  Valid loss: 0.362 (BinaryAccuracy: 0.873, BinaryAUROC: 0.868)\n",
      "|  Epoch 39: Train loss: 0.128 (BinaryAccuracy: 0.966, BinaryAUROC: 0.966)  Valid loss: 0.348 (BinaryAccuracy: 0.858, BinaryAUROC: 0.861)\n",
      "|  Epoch 40: Train loss: 0.126 (BinaryAccuracy: 0.957, BinaryAUROC: 0.957)  Valid loss: 0.337 (BinaryAccuracy: 0.877, BinaryAUROC: 0.874)\n",
      "|  Epoch 41: Train loss: 0.131 (BinaryAccuracy: 0.958, BinaryAUROC: 0.958)  Valid loss: 0.436 (BinaryAccuracy: 0.873, BinaryAUROC: 0.865)\n",
      "|  Epoch 42: Train loss: 0.114 (BinaryAccuracy: 0.955, BinaryAUROC: 0.955)  Valid loss: 0.555 (BinaryAccuracy: 0.863, BinaryAUROC: 0.852)\n",
      "|  Epoch 43: Train loss: 0.106 (BinaryAccuracy: 0.963, BinaryAUROC: 0.963)  Valid loss: 0.539 (BinaryAccuracy: 0.858, BinaryAUROC: 0.848)\n",
      "|  Epoch 44: Train loss: 0.108 (BinaryAccuracy: 0.964, BinaryAUROC: 0.964)  Valid loss: 0.507 (BinaryAccuracy: 0.882, BinaryAUROC: 0.874)\n",
      "|  Epoch 45: Train loss: 0.113 (BinaryAccuracy: 0.966, BinaryAUROC: 0.966)  Valid loss: 0.496 (BinaryAccuracy: 0.873, BinaryAUROC: 0.865)\n",
      "|  Epoch 46: Train loss: 0.097 (BinaryAccuracy: 0.971, BinaryAUROC: 0.971)  Valid loss: 0.547 (BinaryAccuracy: 0.858, BinaryAUROC: 0.848)\n",
      "|  Epoch 47: Train loss: 0.097 (BinaryAccuracy: 0.969, BinaryAUROC: 0.969)  Valid loss: 0.571 (BinaryAccuracy: 0.882, BinaryAUROC: 0.874)\n",
      "|  Epoch 48: Train loss: 0.119 (BinaryAccuracy: 0.96, BinaryAUROC: 0.96)  Valid loss: 0.709 (BinaryAccuracy: 0.858, BinaryAUROC: 0.845)\n",
      "|  Epoch 49: Train loss: 0.103 (BinaryAccuracy: 0.969, BinaryAUROC: 0.969)  Valid loss: 0.442 (BinaryAccuracy: 0.882, BinaryAUROC: 0.876)\n",
      "|  Epoch 50: Train loss: 0.107 (BinaryAccuracy: 0.964, BinaryAUROC: 0.965)  Valid loss: 0.574 (BinaryAccuracy: 0.877, BinaryAUROC: 0.87)\n",
      "|  Epoch 51: Train loss: 0.106 (BinaryAccuracy: 0.966, BinaryAUROC: 0.966)  Valid loss: 0.481 (BinaryAccuracy: 0.882, BinaryAUROC: 0.874)\n",
      "|  Epoch 52: Train loss: 0.102 (BinaryAccuracy: 0.969, BinaryAUROC: 0.969)  Valid loss: 0.799 (BinaryAccuracy: 0.838, BinaryAUROC: 0.824)\n",
      "|  Epoch 53: Train loss: 0.1 (BinaryAccuracy: 0.972, BinaryAUROC: 0.973)  Valid loss: 0.723 (BinaryAccuracy: 0.843, BinaryAUROC: 0.83)\n",
      "|  Epoch 54: Train loss: 0.091 (BinaryAccuracy: 0.974, BinaryAUROC: 0.974)  Valid loss: 0.605 (BinaryAccuracy: 0.858, BinaryAUROC: 0.847)\n",
      "|  Epoch 55: Train loss: 0.065 (BinaryAccuracy: 0.985, BinaryAUROC: 0.985)  Valid loss: 0.637 (BinaryAccuracy: 0.858, BinaryAUROC: 0.848)\n",
      "|  Epoch 56: Train loss: 0.085 (BinaryAccuracy: 0.975, BinaryAUROC: 0.975)  Valid loss: 0.885 (BinaryAccuracy: 0.853, BinaryAUROC: 0.84)\n",
      "|  Epoch 57: Train loss: 0.071 (BinaryAccuracy: 0.981, BinaryAUROC: 0.981)  Valid loss: 0.51 (BinaryAccuracy: 0.873, BinaryAUROC: 0.865)\n",
      "|  Epoch 58: Train loss: 0.071 (BinaryAccuracy: 0.98, BinaryAUROC: 0.98)  Valid loss: 0.632 (BinaryAccuracy: 0.882, BinaryAUROC: 0.872)\n",
      "|  Epoch 59: Train loss: 0.091 (BinaryAccuracy: 0.97, BinaryAUROC: 0.971)  Valid loss: 0.533 (BinaryAccuracy: 0.882, BinaryAUROC: 0.879)\n",
      "|  Epoch 60: Train loss: 0.072 (BinaryAccuracy: 0.979, BinaryAUROC: 0.979)  Valid loss: 0.536 (BinaryAccuracy: 0.877, BinaryAUROC: 0.874)\n",
      "------------------------------------------------\n",
      "Using Epoch 12 for testing...\n",
      "Test loss: 1.677\n",
      "Test BinaryAccuracy: 0.618\n",
      "Test BinaryAUROC: 0.611\n"
     ]
    },
    {
     "data": {
      "text/plain": [
       "[]"
      ]
     },
     "execution_count": 20,
     "metadata": {},
     "output_type": "execute_result"
    }
   ],
   "source": [
    "d = 300\n",
    "model = SetRepClassifier(8, 16, d, 2)\n",
    "\n",
    "optimizer = torch.optim.Adam(model.parameters(), lr=0.001)\n",
    "scheduler = torch.optim.lr_scheduler.ExponentialLR(optimizer, gamma=0.9)\n",
    "criterion = torch.nn.NLLLoss()\n",
    "\n",
    "trainer = TorchTrainer(\n",
    "    model,\n",
    "    optimizer,\n",
    "    criterion,\n",
    "    60,\n",
    "    [BinaryAccuracy(), BinaryAUROC()],\n",
    "    [BinaryAccuracy(), BinaryAUROC()],\n",
    "    [BinaryAccuracy(), BinaryAUROC()],\n",
    "    # scheduler=scheduler,\n",
    "    monitor_metric=1,\n",
    "    monitor_lower_is_better=False\n",
    ")\n",
    "\n",
    "trainer.train(train_loader, valid_loader)\n",
    "trainer.test(test_loader)"
   ]
  },
  {
   "attachments": {},
   "cell_type": "markdown",
   "metadata": {},
   "source": [
    "## Regression"
   ]
  },
  {
   "cell_type": "code",
   "execution_count": 26,
   "metadata": {},
   "outputs": [],
   "source": [
    "train, valid, test = molnet_loader(\"delaney\", splitter=\"random\")\n",
    "enc = Mol2SetEncoder()\n",
    "\n",
    "train_dataset = enc.encode(train.ids, [y[0] for y in train.y], label_dtype=torch.float)\n",
    "valid_dataset = enc.encode(valid.ids, [y[0] for y in valid.y], label_dtype=torch.float)\n",
    "test_dataset = enc.encode(test.ids, [y[0] for y in test.y], label_dtype=torch.float)\n",
    "\n",
    "train_loader = DataLoader(train_dataset, batch_size=64)\n",
    "valid_loader = DataLoader(valid_dataset, batch_size=64)\n",
    "test_loader = DataLoader(test_dataset, batch_size=64)"
   ]
  },
  {
   "cell_type": "code",
   "execution_count": null,
   "metadata": {},
   "outputs": [],
   "source": [
    "d = 300\n",
    "model = SetRepRegressor(100, 16, d)\n",
    "\n",
    "optimizer = torch.optim.Adam(model.parameters(), lr=0.001)\n",
    "scheduler = torch.optim.lr_scheduler.ExponentialLR(optimizer, gamma=0.95)\n",
    "criterion = torch.nn.MSELoss()\n",
    "\n",
    "trainer = TorchTrainer(\n",
    "    model,\n",
    "    optimizer,\n",
    "    criterion,\n",
    "    200,\n",
    "    [R2Score(), MeanSquaredError(squared=False), MeanAbsoluteError()],\n",
    "    [R2Score(), MeanSquaredError(squared=False), MeanAbsoluteError()],\n",
    "    [R2Score(), MeanSquaredError(squared=False), MeanAbsoluteError()],\n",
    "    scheduler=scheduler,\n",
    "    monitor_metric=1,\n",
    "    monitor_lower_is_better=True\n",
    ")\n",
    "\n",
    "trainer.train(train_loader, valid_loader)\n",
    "trainer.test(test_loader)"
   ]
  }
 ],
 "metadata": {
  "kernelspec": {
   "display_name": "molsetrep",
   "language": "python",
   "name": "python3"
  },
  "language_info": {
   "codemirror_mode": {
    "name": "ipython",
    "version": 3
   },
   "file_extension": ".py",
   "mimetype": "text/x-python",
   "name": "python",
   "nbconvert_exporter": "python",
   "pygments_lexer": "ipython3",
   "version": "3.9.16"
  },
  "orig_nbformat": 4
 },
 "nbformat": 4,
 "nbformat_minor": 2
}
