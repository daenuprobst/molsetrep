{
 "cells": [
  {
   "cell_type": "code",
   "execution_count": null,
   "metadata": {},
   "outputs": [],
   "source": [
    "from dataclasses import dataclass\n",
    "\n",
    "import torch\n",
    "import numpy as np\n",
    "import pandas as pd\n",
    "\n",
    "from torch.utils.data import DataLoader\n",
    "\n",
    "from molsetrep.encoders import RXNSetEncoder\n",
    "from molsetrep.utils.datasets import get_class_weights\n",
    "from molsetrep.models import LightningDualSRClassifier\n",
    "\n",
    "from sklearn.preprocessing import LabelEncoder\n",
    "\n",
    "import lightning.pytorch as pl\n",
    "from lightning.pytorch.callbacks import ModelCheckpoint\n",
    "from lightning.pytorch.loggers import wandb\n",
    "from wandb import finish as wandb_finish\n"
   ]
  },
  {
   "cell_type": "markdown",
   "metadata": {},
   "source": [
    "## Setup"
   ]
  },
  {
   "cell_type": "markdown",
   "metadata": {},
   "source": [
    "### Data Loader"
   ]
  },
  {
   "cell_type": "code",
   "execution_count": null,
   "metadata": {},
   "outputs": [],
   "source": [
    "@dataclass\n",
    "class DataSet:\n",
    "    ids: np.ndarray\n",
    "    y: np.ndarray\n",
    "\n",
    "def schneider_loader(\n",
    "    name: str, preproc: bool = False, **kwargs\n",
    "):\n",
    "    df = pd.read_csv(\"../data/schneider50k.tsv.gz\", sep=\"\\t\")\n",
    "    le = LabelEncoder()\n",
    "\n",
    "    df[\"class\"] = le.fit_transform(df[\"rxn_class\"])\n",
    "\n",
    "    X_train = np.array([row[\"rxn\"] for _, row in df[df.split == \"train\"].iterrows()])\n",
    "    y_train = np.array(\n",
    "        [\n",
    "            [row[\"class\"]]\n",
    "            for _, row in df[df.split == \"train\"].iterrows()\n",
    "        ],\n",
    "        dtype=int,\n",
    "    )\n",
    "\n",
    "    X_test = np.array([row[\"rxn\"] for _, row in df[df.split == \"test\"].iterrows()])\n",
    "    y_test = np.array(\n",
    "        [\n",
    "            [row[\"class\"]]\n",
    "            for _, row in df[df.split == \"test\"].iterrows()\n",
    "        ],\n",
    "        dtype=int,\n",
    "    )\n",
    "\n",
    "    # Just use test set as valid as no valid set is profided as is\n",
    "    train = DataSet(X_train, y_train)\n",
    "    test = DataSet(X_test, y_test)\n",
    "    return (train, test, test)\n"
   ]
  },
  {
   "cell_type": "markdown",
   "metadata": {},
   "source": [
    "## Train"
   ]
  },
  {
   "cell_type": "markdown",
   "metadata": {},
   "source": [
    "### Load Data"
   ]
  },
  {
   "cell_type": "code",
   "execution_count": null,
   "metadata": {},
   "outputs": [],
   "source": [
    "data_set_name = \"schneider\"\n",
    "\n",
    "train, valid, test = schneider_loader(data_set_name)\n",
    "\n",
    "enc = RXNSetEncoder()\n",
    "\n",
    "class_weights, _ = get_class_weights(train.y.flatten())\n",
    "print(class_weights)\n",
    "\n",
    "train_dataset = enc.encode(train.ids, [y[0] for y in train.y], label_dtype=torch.long)\n",
    "valid_dataset = enc.encode(valid.ids, [y[0] for y in valid.y], label_dtype=torch.long)\n",
    "test_dataset = enc.encode(test.ids, [y[0] for y in test.y], label_dtype=torch.long)\n",
    "\n",
    "train_loader = DataLoader(train_dataset, batch_size=64, shuffle=True, num_workers=8, drop_last=True)\n",
    "valid_loader = DataLoader(valid_dataset, batch_size=64, shuffle=False, num_workers=8, drop_last=True)\n",
    "test_loader = DataLoader(test_dataset, batch_size=64, shuffle=False, num_workers=8, drop_last=True)\n",
    "\n",
    "d = len(train_dataset[0][0][0])\n",
    "d2 = len(train_dataset[0][1][0])"
   ]
  },
  {
   "cell_type": "markdown",
   "metadata": {},
   "source": [
    "### Fit"
   ]
  },
  {
   "cell_type": "code",
   "execution_count": null,
   "metadata": {},
   "outputs": [],
   "source": [
    "model = LightningDualSRClassifier([32, 32], [32, 32], [d, d2], len(class_weights), n_hidden_channels=[128, 16], class_weights=class_weights)\n",
    "\n",
    "checkpoint_callback = ModelCheckpoint(monitor=f\"val/auroc\", mode=\"max\")\n",
    "\n",
    "wandb_logger = wandb.WandbLogger(project=f\"MSR_Schneider_RXN\")\n",
    "wandb_logger.watch(model, log=\"all\")\n",
    "\n",
    "trainer = pl.Trainer(\n",
    "    callbacks=[checkpoint_callback],\n",
    "    max_epochs=50,\n",
    "    log_every_n_steps=1,\n",
    "    logger=wandb_logger,\n",
    ")\n",
    "\n",
    "trainer.fit(\n",
    "    model, train_dataloaders=train_loader, val_dataloaders=valid_loader\n",
    ")\n",
    "trainer.test(ckpt_path=\"best\", dataloaders=test_loader)\n",
    "\n",
    "wandb_logger.finalize(\"success\")\n",
    "wandb_finish()"
   ]
  },
  {
   "cell_type": "code",
   "execution_count": null,
   "metadata": {},
   "outputs": [],
   "source": []
  }
 ],
 "metadata": {
  "kernelspec": {
   "display_name": "molsetrep",
   "language": "python",
   "name": "python3"
  },
  "language_info": {
   "codemirror_mode": {
    "name": "ipython",
    "version": 3
   },
   "file_extension": ".py",
   "mimetype": "text/x-python",
   "name": "python",
   "nbconvert_exporter": "python",
   "pygments_lexer": "ipython3",
   "version": "3.10.12"
  },
  "orig_nbformat": 4
 },
 "nbformat": 4,
 "nbformat_minor": 2
}
