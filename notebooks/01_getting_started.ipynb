{
 "cells": [
  {
   "cell_type": "code",
   "execution_count": 1,
   "metadata": {},
   "outputs": [
    {
     "name": "stderr",
     "output_type": "stream",
     "text": [
      "Skipped loading some Tensorflow models, missing a dependency. No module named 'tensorflow'\n",
      "Skipped loading modules with pytorch-lightning dependency, missing a dependency. No module named 'pytorch_lightning'\n",
      "Skipped loading some Jax models, missing a dependency. No module named 'jax'\n"
     ]
    }
   ],
   "source": [
    "import torch\n",
    "\n",
    "from torchmetrics.classification import Accuracy, AUROC\n",
    "from torchmetrics.regression import R2Score, MeanSquaredError\n",
    "\n",
    "from torch_geometric.nn import GAT\n",
    "\n",
    "from molsetrep.utils.trainer import Trainer\n",
    "from molsetrep.utils.datasets import molnet_loader\n",
    "from molsetrep.utils.converters import molnet_to_pyg\n",
    "from molsetrep.utils.root_mean_squared_error import RootMeanSquaredError\n",
    "from molsetrep.models import GNNSetRepClassifier, GNNSetRepRegressor, GNNSetRepClassifierSubstruct\n",
    "from molsetrep.explain import RegressionExplainer"
   ]
  },
  {
   "attachments": {},
   "cell_type": "markdown",
   "metadata": {},
   "source": [
    "## Classification"
   ]
  },
  {
   "cell_type": "code",
   "execution_count": 5,
   "metadata": {},
   "outputs": [],
   "source": [
    "# Compare to https://github.com/wengong-jin/chemprop\n",
    "train, valid, test = molnet_loader(\"bbbp\", splitter=\"random\")\n",
    "train_loader, valid_loader, test_loader = molnet_to_pyg(\n",
    "    train,\n",
    "    valid,\n",
    "    test,\n",
    "    label_type=torch.long,\n",
    "    imbalanced_sampler=True,\n",
    "    secfp=False,\n",
    "    index_graphs=False,\n",
    "    # atom_attrs=[\"atomic_num\", \"charge\", \"hydrogen_count\"],\n",
    "    # bond_attrs=[\"bond_type\"],\n",
    ")"
   ]
  },
  {
   "cell_type": "code",
   "execution_count": null,
   "metadata": {},
   "outputs": [],
   "source": [
    "num_node_features = train_loader.dataset[0].num_node_features\n",
    "num_edge_features = train_loader.dataset[0].num_edge_features\n",
    "model = GNNSetRepClassifier(num_node_features, 1024, 6, num_edge_features, 100, 32)\n",
    "\n",
    "optimizer = torch.optim.Adam(model.parameters(), lr=0.001)\n",
    "scheduler = torch.optim.lr_scheduler.ExponentialLR(optimizer, gamma=0.95)\n",
    "criterion = torch.nn.NLLLoss()\n",
    "\n",
    "trainer = Trainer(\n",
    "    model,\n",
    "    optimizer,\n",
    "    criterion,\n",
    "    200,\n",
    "    [Accuracy(task=\"binary\"), AUROC(task=\"binary\")],\n",
    "    [Accuracy(task=\"binary\"), AUROC(task=\"binary\")],\n",
    "    [Accuracy(task=\"binary\"), AUROC(task=\"binary\")],\n",
    "    scheduler=scheduler,\n",
    "    monitor_metric=1,\n",
    "    monitor_lower_is_better=False\n",
    ")\n",
    "\n",
    "trainer.train(train_loader, valid_loader)\n",
    "trainer.test(test_loader)"
   ]
  },
  {
   "attachments": {},
   "cell_type": "markdown",
   "metadata": {},
   "source": [
    "## Regression"
   ]
  },
  {
   "cell_type": "code",
   "execution_count": 5,
   "metadata": {},
   "outputs": [
    {
     "name": "stdout",
     "output_type": "stream",
     "text": [
      "*  Epoch 1: Train loss: 0.946 (R2Score: 0.053, MeanSquaredError: 0.972)  Valid loss: 0.64 (R2Score: 0.279, MeanSquaredError: 0.8)\n",
      "|  Epoch 2: Train loss: 0.738 (R2Score: 0.261, MeanSquaredError: 0.859)  Valid loss: 0.686 (R2Score: 0.254, MeanSquaredError: 0.828)\n",
      "*  Epoch 3: Train loss: 0.654 (R2Score: 0.343, MeanSquaredError: 0.809)  Valid loss: 0.522 (R2Score: 0.313, MeanSquaredError: 0.723)\n",
      "*  Epoch 4: Train loss: 0.621 (R2Score: 0.383, MeanSquaredError: 0.788)  Valid loss: 0.517 (R2Score: 0.441, MeanSquaredError: 0.719)\n",
      "*  Epoch 5: Train loss: 0.559 (R2Score: 0.438, MeanSquaredError: 0.747)  Valid loss: 0.424 (R2Score: 0.526, MeanSquaredError: 0.651)\n",
      "------------------------------------------------\n",
      "Using Epoch 5 for testing...\n",
      "Test loss: 0.54\n",
      "Test R2Score: 0.397\n",
      "Test MeanSquaredError: 0.735\n"
     ]
    }
   ],
   "source": [
    "train, valid, test = molnet_loader(\"delaney\", splitter=\"random\")\n",
    "train_loader, valid_loader, test_loader = molnet_to_pyg(\n",
    "    train,\n",
    "    valid,\n",
    "    test,\n",
    "    label_type=torch.float,\n",
    "    # atom_attrs=[\n",
    "    #     \"atomic_num\",\n",
    "    #     \"charge\",\n",
    "    #     \"aromatic\",\n",
    "    #     \"is_in_ring\",\n",
    "    #     \"hydrogen_count\",\n",
    "    #     \"hybridization_sp\",\n",
    "    #     \"hybridization_sp2\",\n",
    "    #     \"hybridization_sp3\",\n",
    "    #     \"hybridization_sp3d\",\n",
    "    #     \"hybridization_sp3d2\",\n",
    "    #     \"chiral_type_chi_tetrahedral_cw\",\n",
    "    #     \"chiral_type_chi_tetrahedral_ccw\",\n",
    "    #     \"chiral_type_chi_other\",\n",
    "    #     \"chiral_type_chi_tetrahedral\",\n",
    "    #     \"chiral_type_chi_allene\",\n",
    "    #     \"chiral_type_chi_squareplanar\",\n",
    "    #     \"chiral_type_chi_trigonalbipyramidal\",\n",
    "    #     \"chiral_type_chi_octahedral\",\n",
    "    #     \"degree\",\n",
    "    #     \"radical_count\"\n",
    "    # ]\n",
    ")\n",
    "\n",
    "num_node_features = train_loader.dataset[0].num_node_features\n",
    "num_edge_features = train_loader.dataset[0].num_edge_features\n",
    "model = GNNSetRepRegressor(num_node_features, 256, 2, num_edge_features, 8, 32)\n",
    "# model = GNNSetRepRegressor(num_node_features, 512, 2, num_edge_features, 8, 32, gnn=GAT(num_node_features, 512, 4, jk=\"cat\", heads=8))\n",
    "\n",
    "\n",
    "optimizer = torch.optim.Adam(model.parameters(), lr=0.0001)\n",
    "criterion = torch.nn.MSELoss()\n",
    "scheduler = torch.optim.lr_scheduler.ExponentialLR(optimizer, gamma=0.9)\n",
    "\n",
    "explainer = RegressionExplainer(model, valid_loader)\n",
    "\n",
    "trainer = Trainer(\n",
    "    model,\n",
    "    optimizer,\n",
    "    criterion,\n",
    "    6,\n",
    "    [R2Score(), MeanSquaredError(squared=False)],\n",
    "    [R2Score(), MeanSquaredError(squared=False)],\n",
    "    [R2Score(), MeanSquaredError(squared=False)],\n",
    "    # scheduler=scheduler,\n",
    "    monitor_metric=1,\n",
    "    # explainer=explainer\n",
    ")\n",
    "\n",
    "trainer.train(train_loader, valid_loader)\n",
    "trainer.test(test_loader)"
   ]
  }
 ],
 "metadata": {
  "kernelspec": {
   "display_name": "molsetrep",
   "language": "python",
   "name": "python3"
  },
  "language_info": {
   "codemirror_mode": {
    "name": "ipython",
    "version": 3
   },
   "file_extension": ".py",
   "mimetype": "text/x-python",
   "name": "python",
   "nbconvert_exporter": "python",
   "pygments_lexer": "ipython3",
   "version": "3.9.16"
  },
  "orig_nbformat": 4
 },
 "nbformat": 4,
 "nbformat_minor": 2
}
