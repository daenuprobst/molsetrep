{
 "cells": [
  {
   "cell_type": "markdown",
   "metadata": {},
   "source": [
    "# Molecular set representation learning - Molecular property prediction"
   ]
  },
  {
   "cell_type": "markdown",
   "metadata": {},
   "source": [
    "## Imports"
   ]
  },
  {
   "cell_type": "code",
   "execution_count": null,
   "metadata": {},
   "outputs": [],
   "source": [
    "from multiprocessing import cpu_count\n",
    "\n",
    "import torch\n",
    "\n",
    "import pandas as pd\n",
    "import lightning.pytorch as pl\n",
    "from lightning.pytorch.callbacks import ModelCheckpoint\n",
    "\n",
    "# from torch.utils.data import DataLoader\n",
    "from torch_geometric.loader import DataLoader\n",
    "\n",
    "from torch_geometric.datasets import LRGBDataset\n",
    "\n",
    "from molsetrep.models import LightningSRGNNClassifier, LightningSRGNNRegressor"
   ]
  },
  {
   "cell_type": "markdown",
   "metadata": {},
   "source": [
    "## Prepare the data"
   ]
  },
  {
   "cell_type": "markdown",
   "metadata": {},
   "source": [
    "### Get LRGB Data"
   ]
  },
  {
   "cell_type": "code",
   "execution_count": null,
   "metadata": {},
   "outputs": [],
   "source": [
    "dataset_train = LRGBDataset(\"./tmp\", \"Peptides-struct\", \"train\")\n",
    "dataset_val = LRGBDataset(\"./tmp\", \"Peptides-struct\", \"val\")\n",
    "dataset_test = LRGBDataset(\"./tmp\", \"Peptides-struct\", \"test\")"
   ]
  },
  {
   "cell_type": "code",
   "execution_count": null,
   "metadata": {},
   "outputs": [],
   "source": [
    "dims_graph = [\n",
    "    dataset_train.num_node_features,\n",
    "    dataset_train.num_edge_features,\n",
    "]\n",
    "dims_graph"
   ]
  },
  {
   "cell_type": "markdown",
   "metadata": {},
   "source": [
    "### Get torch data loaders"
   ]
  },
  {
   "cell_type": "markdown",
   "metadata": {},
   "source": [
    "#### Set-enhanced GNN (SR-GNN)"
   ]
  },
  {
   "cell_type": "code",
   "execution_count": null,
   "metadata": {},
   "outputs": [],
   "source": [
    "train_loader = DataLoader(\n",
    "    dataset_train,\n",
    "    batch_size=64,\n",
    "    shuffle=True,\n",
    "    num_workers=cpu_count() if cpu_count() < 8 else 8,\n",
    "    drop_last=True\n",
    ")\n",
    "\n",
    "val_loader = DataLoader(\n",
    "    dataset_val,\n",
    "    batch_size=64,\n",
    "    shuffle=False,\n",
    "    num_workers=cpu_count() if cpu_count() < 8 else 8,\n",
    "    drop_last=True\n",
    ")\n",
    "\n",
    "test_loader = DataLoader(\n",
    "    dataset_test,\n",
    "    batch_size=64,\n",
    "    shuffle=False,\n",
    "    num_workers=cpu_count() if cpu_count() < 8 else 8,\n",
    "    drop_last=True\n",
    ")"
   ]
  },
  {
   "cell_type": "markdown",
   "metadata": {},
   "source": [
    "## Train"
   ]
  },
  {
   "cell_type": "markdown",
   "metadata": {},
   "source": [
    "### Initialise the model"
   ]
  },
  {
   "cell_type": "markdown",
   "metadata": {},
   "source": [
    "#### Set-enhanced GNN (SR-GNN)"
   ]
  },
  {
   "cell_type": "code",
   "execution_count": null,
   "metadata": {},
   "outputs": [],
   "source": [
    "# model_graph = LightningSRGNNClassifier(\n",
    "#     [128, 128], [64, 64],\n",
    "#     n_hidden_channels=[128, 64],\n",
    "#     n_in_channels=dims_graph[0], \n",
    "#     n_edge_channels=dims_graph[1],\n",
    "#     n_layers=8,\n",
    "#     n_classes=10,\n",
    "#     metrics=[\"\"],\n",
    "#     metrics_task=\"multilabel\"\n",
    "# )\n",
    "\n",
    "model_graph = LightningSRGNNRegressor(\n",
    "    [128, 128], [64, 64],\n",
    "    n_hidden_channels=[128, 64],\n",
    "    n_in_channels=dims_graph[0], \n",
    "    n_edge_channels=dims_graph[1],\n",
    "    n_layers=8,\n",
    "    n_tasks=11,\n",
    ")"
   ]
  },
  {
   "cell_type": "markdown",
   "metadata": {},
   "source": [
    "### Initialise the trainer and fit"
   ]
  },
  {
   "cell_type": "markdown",
   "metadata": {},
   "source": [
    "#### Set-enhanced GNN (SR-GNN)"
   ]
  },
  {
   "cell_type": "code",
   "execution_count": null,
   "metadata": {
    "scrolled": true
   },
   "outputs": [],
   "source": [
    "checkpoint_callback = ModelCheckpoint(dirpath=\"./tmp\", save_top_k=1)\n",
    "\n",
    "trainer_graph = pl.Trainer(\n",
    "    max_epochs=10,\n",
    "    callbacks=[checkpoint_callback],\n",
    "    \n",
    ")\n",
    "\n",
    "trainer_graph.fit(model_graph, train_dataloaders=train_loader, val_dataloaders=val_loader)\n",
    "trainer_graph.test(dataloaders=test_loader)"
   ]
  },
  {
   "cell_type": "code",
   "execution_count": null,
   "metadata": {},
   "outputs": [],
   "source": []
  }
 ],
 "metadata": {
  "kernelspec": {
   "display_name": "Python 3 (ipykernel)",
   "language": "python",
   "name": "python3"
  },
  "language_info": {
   "codemirror_mode": {
    "name": "ipython",
    "version": 3
   },
   "file_extension": ".py",
   "mimetype": "text/x-python",
   "name": "python",
   "nbconvert_exporter": "python",
   "pygments_lexer": "ipython3",
   "version": "3.10.15"
  }
 },
 "nbformat": 4,
 "nbformat_minor": 4
}
