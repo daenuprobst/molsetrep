{
 "cells": [
  {
   "cell_type": "markdown",
   "metadata": {},
   "source": [
    "# Molecular set representation learning - Reaction yield prediction"
   ]
  },
  {
   "cell_type": "markdown",
   "metadata": {},
   "source": [
    "## Imports"
   ]
  },
  {
   "cell_type": "code",
   "execution_count": null,
   "metadata": {},
   "outputs": [],
   "source": [
    "from multiprocessing import cpu_count\n",
    "\n",
    "import torch\n",
    "\n",
    "import pandas as pd\n",
    "import lightning.pytorch as pl\n",
    "\n",
    "from torch.utils.data import DataLoader\n",
    "\n",
    "from molsetrep.models import (\n",
    "    LightningDualSRRegressor,\n",
    ")\n",
    "from molsetrep.encoders import RXNSetEncoder"
   ]
  },
  {
   "cell_type": "markdown",
   "metadata": {},
   "source": [
    "## Prepare the data"
   ]
  },
  {
   "cell_type": "markdown",
   "metadata": {},
   "source": [
    "### Load the data from the data set"
   ]
  },
  {
   "cell_type": "markdown",
   "metadata": {},
   "source": [
    "The following is a small reusable loader for complexes that have been preprocessed with `scripts/preprocess_pdbbind.py`."
   ]
  },
  {
   "cell_type": "code",
   "execution_count": null,
   "metadata": {},
   "outputs": [],
   "source": [
    "import pickle\n",
    "\n",
    "def reaction_loader(fold_idx: int = 0):\n",
    "    az_path = \"../data/az\"\n",
    "    splits = pickle.load(open(az_path + \"/train_test_idxs.pickle\", \"rb\"))\n",
    "\n",
    "    train_ids = splits[\"train_idx\"][fold_idx + 1]\n",
    "    test_ids = splits[\"test_idx\"][fold_idx + 1]\n",
    "\n",
    "    df = pd.read_csv(az_path + \"/az_no_rdkit.csv\")\n",
    "    \n",
    "    df[\"smiles\"] = (\n",
    "        df.reactant_smiles\n",
    "        + \".\"\n",
    "        + df.solvent_smiles\n",
    "        + \".\"\n",
    "        + df.base_smiles\n",
    "        + \">>\"\n",
    "        + df.product_smiles\n",
    "    )\n",
    "\n",
    "    train = df.iloc[train_ids]\n",
    "    test = df.iloc[test_ids]\n",
    "\n",
    "    # Validate on random sample from train\n",
    "    valid = train.sample(frac=0.1)\n",
    "\n",
    "    tasks = [\"yield\"]\n",
    "\n",
    "    return (\n",
    "        train[\"smiles\"].to_list(), train[\"yield\"].to_list(),\n",
    "        valid[\"smiles\"].to_list(), valid[\"yield\"].to_list(),\n",
    "        test[\"smiles\"].to_list(), test[\"yield\"].to_list(),\n",
    "    )"
   ]
  },
  {
   "cell_type": "markdown",
   "metadata": {},
   "source": [
    "Now call the loader function."
   ]
  },
  {
   "cell_type": "code",
   "execution_count": null,
   "metadata": {},
   "outputs": [],
   "source": [
    "train_X, train_y, valid_X, valid_y, test_X, test_y = reaction_loader()"
   ]
  },
  {
   "cell_type": "markdown",
   "metadata": {},
   "source": [
    "### Encode the data"
   ]
  },
  {
   "cell_type": "code",
   "execution_count": null,
   "metadata": {},
   "outputs": [],
   "source": [
    "enc = RXNSetEncoder()\n",
    "dataset_train = enc.encode(train_X, train_y, torch.float32)\n",
    "dataset_valid = enc.encode(valid_X, valid_y, torch.float32)\n",
    "dataset_test = enc.encode(test_X, test_y, torch.float32)\n",
    "\n",
    "# Get the dimensions of the encoding\n",
    "dims_dual = [\n",
    "    len(dataset_train[0][0][0]),\n",
    "    len(dataset_train[0][1][0])\n",
    "]"
   ]
  },
  {
   "cell_type": "markdown",
   "metadata": {},
   "source": [
    "### Get torch data loaders"
   ]
  },
  {
   "cell_type": "code",
   "execution_count": null,
   "metadata": {},
   "outputs": [],
   "source": [
    "train_loader = DataLoader(\n",
    "    dataset_train,\n",
    "    batch_size=64,\n",
    "    shuffle=True,\n",
    "    num_workers=cpu_count() if cpu_count() < 8 else 8,\n",
    "    drop_last=True\n",
    ")\n",
    "\n",
    "valid_loader = DataLoader(\n",
    "    dataset_valid,\n",
    "    batch_size=64,\n",
    "    shuffle=True,\n",
    "    num_workers=cpu_count() if cpu_count() < 8 else 8,\n",
    "    drop_last=True\n",
    ")\n",
    "\n",
    "test_loader = DataLoader(\n",
    "    dataset_test,\n",
    "    batch_size=64,\n",
    "    shuffle=True,\n",
    "    num_workers=cpu_count() if cpu_count() < 8 else 8,\n",
    "    drop_last=True\n",
    ")"
   ]
  },
  {
   "cell_type": "markdown",
   "metadata": {},
   "source": [
    "## Train"
   ]
  },
  {
   "cell_type": "markdown",
   "metadata": {},
   "source": [
    "### Initialise the model"
   ]
  },
  {
   "cell_type": "code",
   "execution_count": null,
   "metadata": {},
   "outputs": [],
   "source": [
    "model = LightningDualSRRegressor([64, 64], [8, 8], dims_dual)"
   ]
  },
  {
   "cell_type": "markdown",
   "metadata": {},
   "source": [
    "### Initialise the trainer and fit"
   ]
  },
  {
   "cell_type": "code",
   "execution_count": null,
   "metadata": {},
   "outputs": [],
   "source": [
    "trainer = pl.Trainer(\n",
    "    max_epochs=150,\n",
    ")\n",
    "\n",
    "# Let's ignore the validation set for the exmaple\n",
    "trainer.fit(model, train_dataloaders=train_loader)\n",
    "trainer.test(dataloaders=test_loader)"
   ]
  }
 ],
 "metadata": {
  "kernelspec": {
   "display_name": "Python 3",
   "language": "python",
   "name": "python3"
  },
  "language_info": {
   "codemirror_mode": {
    "name": "ipython",
    "version": 3
   },
   "file_extension": ".py",
   "mimetype": "text/x-python",
   "name": "python",
   "nbconvert_exporter": "python",
   "pygments_lexer": "ipython3",
   "version": "3.10.12"
  }
 },
 "nbformat": 4,
 "nbformat_minor": 2
}
