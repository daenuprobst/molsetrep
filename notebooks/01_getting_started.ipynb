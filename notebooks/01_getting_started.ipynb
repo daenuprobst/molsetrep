{
 "cells": [
  {
   "cell_type": "code",
   "execution_count": 1,
   "metadata": {},
   "outputs": [
    {
     "name": "stderr",
     "output_type": "stream",
     "text": [
      "Skipped loading some Tensorflow models, missing a dependency. No module named 'tensorflow'\n",
      "Skipped loading modules with pytorch-lightning dependency, missing a dependency. No module named 'pytorch_lightning'\n",
      "Skipped loading some Jax models, missing a dependency. No module named 'jax'\n"
     ]
    }
   ],
   "source": [
    "import torch\n",
    "\n",
    "from torcheval.metrics import R2Score, BinaryAccuracy, BinaryAUROC\n",
    "\n",
    "from molsetrep.utils.trainer import Trainer\n",
    "from molsetrep.utils.datasets import molnet_loader\n",
    "from molsetrep.utils.converters import molnet_to_pyg\n",
    "from molsetrep.utils.root_mean_squared_error import RootMeanSquaredError\n",
    "from molsetrep.models import GNNSetRepClassifier, GNNSetRepRegressor, GNNSetRepClassifierSubstruct"
   ]
  },
  {
   "attachments": {},
   "cell_type": "markdown",
   "metadata": {},
   "source": [
    "## Classification"
   ]
  },
  {
   "cell_type": "code",
   "execution_count": 2,
   "metadata": {},
   "outputs": [
    {
     "name": "stdout",
     "output_type": "stream",
     "text": [
      "*  Epoch 1: Train loss: 0.649 (BinaryAccuracy: 0.638, BinaryAUROC: 0.639)  Valid loss: 0.626 (BinaryAccuracy: 0.651, BinaryAUROC: 0.665)\n",
      "*  Epoch 2: Train loss: 0.626 (BinaryAccuracy: 0.654, BinaryAUROC: 0.654)  Valid loss: 0.642 (BinaryAccuracy: 0.677, BinaryAUROC: 0.684)\n",
      "*  Epoch 3: Train loss: 0.614 (BinaryAccuracy: 0.689, BinaryAUROC: 0.688)  Valid loss: 0.611 (BinaryAccuracy: 0.688, BinaryAUROC: 0.695)\n",
      "|  Epoch 4: Train loss: 0.594 (BinaryAccuracy: 0.686, BinaryAUROC: 0.689)  Valid loss: 0.605 (BinaryAccuracy: 0.677, BinaryAUROC: 0.68)\n",
      "*  Epoch 5: Train loss: 0.575 (BinaryAccuracy: 0.719, BinaryAUROC: 0.719)  Valid loss: 0.583 (BinaryAccuracy: 0.688, BinaryAUROC: 0.696)\n",
      "|  Epoch 6: Train loss: 0.558 (BinaryAccuracy: 0.721, BinaryAUROC: 0.721)  Valid loss: 0.571 (BinaryAccuracy: 0.682, BinaryAUROC: 0.683)\n",
      "|  Epoch 7: Train loss: 0.547 (BinaryAccuracy: 0.742, BinaryAUROC: 0.742)  Valid loss: 0.563 (BinaryAccuracy: 0.677, BinaryAUROC: 0.683)\n",
      "|  Epoch 8: Train loss: 0.546 (BinaryAccuracy: 0.725, BinaryAUROC: 0.725)  Valid loss: 0.571 (BinaryAccuracy: 0.693, BinaryAUROC: 0.695)\n",
      "*  Epoch 9: Train loss: 0.533 (BinaryAccuracy: 0.733, BinaryAUROC: 0.733)  Valid loss: 0.553 (BinaryAccuracy: 0.698, BinaryAUROC: 0.7)\n",
      "|  Epoch 10: Train loss: 0.524 (BinaryAccuracy: 0.734, BinaryAUROC: 0.733)  Valid loss: 0.574 (BinaryAccuracy: 0.682, BinaryAUROC: 0.683)\n",
      "*  Epoch 11: Train loss: 0.522 (BinaryAccuracy: 0.732, BinaryAUROC: 0.732)  Valid loss: 0.55 (BinaryAccuracy: 0.729, BinaryAUROC: 0.735)\n",
      "|  Epoch 12: Train loss: 0.523 (BinaryAccuracy: 0.731, BinaryAUROC: 0.731)  Valid loss: 0.542 (BinaryAccuracy: 0.703, BinaryAUROC: 0.709)\n",
      "*  Epoch 13: Train loss: 0.511 (BinaryAccuracy: 0.743, BinaryAUROC: 0.743)  Valid loss: 0.532 (BinaryAccuracy: 0.729, BinaryAUROC: 0.74)\n",
      "|  Epoch 14: Train loss: 0.492 (BinaryAccuracy: 0.767, BinaryAUROC: 0.767)  Valid loss: 0.55 (BinaryAccuracy: 0.693, BinaryAUROC: 0.697)\n",
      "|  Epoch 15: Train loss: 0.501 (BinaryAccuracy: 0.752, BinaryAUROC: 0.753)  Valid loss: 0.547 (BinaryAccuracy: 0.703, BinaryAUROC: 0.709)\n",
      "|  Epoch 16: Train loss: 0.5 (BinaryAccuracy: 0.761, BinaryAUROC: 0.761)  Valid loss: 0.541 (BinaryAccuracy: 0.703, BinaryAUROC: 0.706)\n",
      "*  Epoch 17: Train loss: 0.48 (BinaryAccuracy: 0.781, BinaryAUROC: 0.781)  Valid loss: 0.523 (BinaryAccuracy: 0.745, BinaryAUROC: 0.749)\n",
      "|  Epoch 18: Train loss: 0.466 (BinaryAccuracy: 0.784, BinaryAUROC: 0.785)  Valid loss: 0.55 (BinaryAccuracy: 0.682, BinaryAUROC: 0.69)\n",
      "|  Epoch 19: Train loss: 0.476 (BinaryAccuracy: 0.771, BinaryAUROC: 0.771)  Valid loss: 0.541 (BinaryAccuracy: 0.698, BinaryAUROC: 0.701)\n",
      "|  Epoch 20: Train loss: 0.463 (BinaryAccuracy: 0.779, BinaryAUROC: 0.779)  Valid loss: 0.522 (BinaryAccuracy: 0.745, BinaryAUROC: 0.743)\n",
      "|  Epoch 21: Train loss: 0.459 (BinaryAccuracy: 0.791, BinaryAUROC: 0.791)  Valid loss: 0.532 (BinaryAccuracy: 0.745, BinaryAUROC: 0.748)\n",
      "|  Epoch 22: Train loss: 0.46 (BinaryAccuracy: 0.783, BinaryAUROC: 0.784)  Valid loss: 0.515 (BinaryAccuracy: 0.74, BinaryAUROC: 0.74)\n",
      "|  Epoch 23: Train loss: 0.445 (BinaryAccuracy: 0.802, BinaryAUROC: 0.802)  Valid loss: 0.517 (BinaryAccuracy: 0.734, BinaryAUROC: 0.735)\n",
      "|  Epoch 24: Train loss: 0.422 (BinaryAccuracy: 0.813, BinaryAUROC: 0.813)  Valid loss: 0.536 (BinaryAccuracy: 0.74, BinaryAUROC: 0.74)\n",
      "|  Epoch 25: Train loss: 0.428 (BinaryAccuracy: 0.807, BinaryAUROC: 0.807)  Valid loss: 0.523 (BinaryAccuracy: 0.719, BinaryAUROC: 0.725)\n",
      "|  Epoch 26: Train loss: 0.422 (BinaryAccuracy: 0.813, BinaryAUROC: 0.813)  Valid loss: 0.551 (BinaryAccuracy: 0.693, BinaryAUROC: 0.699)\n",
      "|  Epoch 27: Train loss: 0.432 (BinaryAccuracy: 0.803, BinaryAUROC: 0.803)  Valid loss: 0.521 (BinaryAccuracy: 0.745, BinaryAUROC: 0.742)\n",
      "*  Epoch 28: Train loss: 0.419 (BinaryAccuracy: 0.811, BinaryAUROC: 0.811)  Valid loss: 0.512 (BinaryAccuracy: 0.755, BinaryAUROC: 0.758)\n",
      "|  Epoch 29: Train loss: 0.416 (BinaryAccuracy: 0.811, BinaryAUROC: 0.811)  Valid loss: 0.547 (BinaryAccuracy: 0.677, BinaryAUROC: 0.678)\n",
      "|  Epoch 30: Train loss: 0.408 (BinaryAccuracy: 0.813, BinaryAUROC: 0.812)  Valid loss: 0.538 (BinaryAccuracy: 0.729, BinaryAUROC: 0.732)\n",
      "|  Epoch 31: Train loss: 0.423 (BinaryAccuracy: 0.796, BinaryAUROC: 0.795)  Valid loss: 0.544 (BinaryAccuracy: 0.703, BinaryAUROC: 0.709)\n",
      "|  Epoch 32: Train loss: 0.416 (BinaryAccuracy: 0.81, BinaryAUROC: 0.81)  Valid loss: 0.532 (BinaryAccuracy: 0.74, BinaryAUROC: 0.743)\n",
      "|  Epoch 33: Train loss: 0.403 (BinaryAccuracy: 0.807, BinaryAUROC: 0.806)  Valid loss: 0.561 (BinaryAccuracy: 0.724, BinaryAUROC: 0.728)\n",
      "|  Epoch 34: Train loss: 0.421 (BinaryAccuracy: 0.797, BinaryAUROC: 0.797)  Valid loss: 0.546 (BinaryAccuracy: 0.74, BinaryAUROC: 0.741)\n",
      "|  Epoch 35: Train loss: 0.388 (BinaryAccuracy: 0.825, BinaryAUROC: 0.825)  Valid loss: 0.542 (BinaryAccuracy: 0.729, BinaryAUROC: 0.733)\n",
      "|  Epoch 36: Train loss: 0.39 (BinaryAccuracy: 0.831, BinaryAUROC: 0.829)  Valid loss: 0.531 (BinaryAccuracy: 0.719, BinaryAUROC: 0.722)\n",
      "|  Epoch 37: Train loss: 0.389 (BinaryAccuracy: 0.827, BinaryAUROC: 0.827)  Valid loss: 0.53 (BinaryAccuracy: 0.745, BinaryAUROC: 0.747)\n",
      "|  Epoch 38: Train loss: 0.395 (BinaryAccuracy: 0.822, BinaryAUROC: 0.822)  Valid loss: 0.519 (BinaryAccuracy: 0.74, BinaryAUROC: 0.742)\n",
      "|  Epoch 39: Train loss: 0.398 (BinaryAccuracy: 0.811, BinaryAUROC: 0.813)  Valid loss: 0.541 (BinaryAccuracy: 0.729, BinaryAUROC: 0.73)\n",
      "|  Epoch 40: Train loss: 0.4 (BinaryAccuracy: 0.8, BinaryAUROC: 0.801)  Valid loss: 0.544 (BinaryAccuracy: 0.719, BinaryAUROC: 0.721)\n",
      "*  Epoch 41: Train loss: 0.391 (BinaryAccuracy: 0.822, BinaryAUROC: 0.822)  Valid loss: 0.516 (BinaryAccuracy: 0.766, BinaryAUROC: 0.769)\n",
      "|  Epoch 42: Train loss: 0.374 (BinaryAccuracy: 0.827, BinaryAUROC: 0.827)  Valid loss: 0.507 (BinaryAccuracy: 0.734, BinaryAUROC: 0.734)\n",
      "|  Epoch 43: Train loss: 0.376 (BinaryAccuracy: 0.825, BinaryAUROC: 0.825)  Valid loss: 0.54 (BinaryAccuracy: 0.729, BinaryAUROC: 0.737)\n",
      "|  Epoch 44: Train loss: 0.379 (BinaryAccuracy: 0.827, BinaryAUROC: 0.828)  Valid loss: 0.518 (BinaryAccuracy: 0.75, BinaryAUROC: 0.752)\n",
      "*  Epoch 45: Train loss: 0.364 (BinaryAccuracy: 0.834, BinaryAUROC: 0.834)  Valid loss: 0.502 (BinaryAccuracy: 0.776, BinaryAUROC: 0.777)\n",
      "|  Epoch 46: Train loss: 0.359 (BinaryAccuracy: 0.841, BinaryAUROC: 0.841)  Valid loss: 0.521 (BinaryAccuracy: 0.729, BinaryAUROC: 0.735)\n",
      "|  Epoch 47: Train loss: 0.351 (BinaryAccuracy: 0.854, BinaryAUROC: 0.854)  Valid loss: 0.504 (BinaryAccuracy: 0.745, BinaryAUROC: 0.746)\n",
      "|  Epoch 48: Train loss: 0.364 (BinaryAccuracy: 0.833, BinaryAUROC: 0.834)  Valid loss: 0.5 (BinaryAccuracy: 0.729, BinaryAUROC: 0.733)\n",
      "|  Epoch 49: Train loss: 0.347 (BinaryAccuracy: 0.848, BinaryAUROC: 0.849)  Valid loss: 0.534 (BinaryAccuracy: 0.74, BinaryAUROC: 0.738)\n",
      "|  Epoch 50: Train loss: 0.354 (BinaryAccuracy: 0.839, BinaryAUROC: 0.839)  Valid loss: 0.497 (BinaryAccuracy: 0.745, BinaryAUROC: 0.748)\n",
      "------------------------------------------------\n",
      "Using Epoch 45 for testing...\n",
      "Test loss: 0.968\n",
      "Test BinaryAccuracy: 0.536\n",
      "Test BinaryAUROC: 0.537\n"
     ]
    }
   ],
   "source": [
    "train, valid, test = molnet_loader(\"bbbp\")\n",
    "train_loader, valid_loader, test_loader = molnet_to_pyg(train, valid, test, label_type=torch.long, imbalanced_sampler=True, secfp=True, index_graphs=False)\n",
    "\n",
    "num_node_features = train_loader.dataset[0].num_node_features\n",
    "num_edge_features = train_loader.dataset[0].num_edge_features\n",
    "model = GNNSetRepClassifierSubstruct(num_node_features, 256, 1, num_edge_features, 32, 16)\n",
    "\n",
    "optimizer = torch.optim.Adam(model.parameters(), lr=0.0001)\n",
    "scheduler = torch.optim.lr_scheduler.ExponentialLR(optimizer, gamma=0.9)\n",
    "criterion = torch.nn.NLLLoss()\n",
    "\n",
    "trainer = Trainer(\n",
    "    model,\n",
    "    optimizer,\n",
    "    criterion,\n",
    "    50,\n",
    "    [BinaryAccuracy(), BinaryAUROC()],\n",
    "    [BinaryAccuracy(), BinaryAUROC()],\n",
    "    [BinaryAccuracy(), BinaryAUROC()],\n",
    "    # scheduler=scheduler,\n",
    "    monitor_metric=1,\n",
    "    monitor_lower_is_better=False\n",
    ")\n",
    "\n",
    "trainer.train(train_loader, valid_loader)\n",
    "trainer.test(test_loader)"
   ]
  },
  {
   "attachments": {},
   "cell_type": "markdown",
   "metadata": {},
   "source": [
    "## Regression"
   ]
  },
  {
   "cell_type": "code",
   "execution_count": null,
   "metadata": {},
   "outputs": [],
   "source": [
    "train, valid, test = molnet_loader(\"lipo\")\n",
    "train_loader, valid_loader, test_loader = molnet_to_pyg(train, valid, test, label_type=torch.float)\n",
    "\n",
    "num_node_features = train_loader.dataset[0].num_node_features\n",
    "num_edge_features = train_loader.dataset[0].num_edge_features\n",
    "model = GNNSetRepRegressor(num_node_features, 256, 2, num_edge_features, 100, 16)\n",
    "\n",
    "optimizer = torch.optim.Adam(model.parameters(), lr=0.00001)\n",
    "criterion = torch.nn.MSELoss()\n",
    "\n",
    "trainer = Trainer(\n",
    "    model,\n",
    "    optimizer,\n",
    "    criterion,\n",
    "    200,\n",
    "    [R2Score(), RootMeanSquaredError()],\n",
    "    [R2Score(), RootMeanSquaredError()],\n",
    "    [R2Score(), RootMeanSquaredError()],\n",
    "    monitor_metric=1\n",
    ")\n",
    "\n",
    "trainer.train(train_loader, valid_loader)\n",
    "trainer.test(test_loader)"
   ]
  },
  {
   "cell_type": "code",
   "execution_count": null,
   "metadata": {},
   "outputs": [],
   "source": []
  }
 ],
 "metadata": {
  "kernelspec": {
   "display_name": "molsetrep",
   "language": "python",
   "name": "python3"
  },
  "language_info": {
   "codemirror_mode": {
    "name": "ipython",
    "version": 3
   },
   "file_extension": ".py",
   "mimetype": "text/x-python",
   "name": "python",
   "nbconvert_exporter": "python",
   "pygments_lexer": "ipython3",
   "version": "3.9.16"
  },
  "orig_nbformat": 4
 },
 "nbformat": 4,
 "nbformat_minor": 2
}
