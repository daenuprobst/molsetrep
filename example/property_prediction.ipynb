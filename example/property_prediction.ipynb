{
 "cells": [
  {
   "cell_type": "markdown",
   "metadata": {},
   "source": [
    "# Molecular set representation learning - Molecular property prediction"
   ]
  },
  {
   "cell_type": "markdown",
   "metadata": {},
   "source": [
    "## Imports"
   ]
  },
  {
   "cell_type": "code",
   "execution_count": 1,
   "metadata": {},
   "outputs": [],
   "source": [
    "from multiprocessing import cpu_count\n",
    "\n",
    "import torch\n",
    "\n",
    "import pandas as pd\n",
    "import lightning.pytorch as pl\n",
    "\n",
    "from torch.utils.data import DataLoader\n",
    "\n",
    "from molsetrep.models import (\n",
    "    LightningSRRegressor,\n",
    "    LightningDualSRRegressor,\n",
    "    LightningSRGNNRegressor,\n",
    ")\n",
    "from molsetrep.encoders import SingleSetEncoder, DualSetEncoder, GraphEncoder"
   ]
  },
  {
   "cell_type": "markdown",
   "metadata": {},
   "source": [
    "## Prepare the data"
   ]
  },
  {
   "cell_type": "markdown",
   "metadata": {},
   "source": [
    "### Load from file"
   ]
  },
  {
   "cell_type": "code",
   "execution_count": 2,
   "metadata": {},
   "outputs": [],
   "source": [
    "df_train = pd.read_csv(\"../data/adme/ADME_MDR1_ER_train.csv\")\n",
    "df_test = pd.read_csv(\"../data/adme/ADME_MDR1_ER_test.csv\")"
   ]
  },
  {
   "cell_type": "markdown",
   "metadata": {},
   "source": [
    "### Encode the data"
   ]
  },
  {
   "cell_type": "markdown",
   "metadata": {},
   "source": [
    "#### Single-set (MSR1)"
   ]
  },
  {
   "cell_type": "code",
   "execution_count": 3,
   "metadata": {},
   "outputs": [],
   "source": [
    "enc_single = SingleSetEncoder()\n",
    "dataset_train_single = enc_single.encode(df_train[\"smiles\"], df_train[\"activity\"], torch.float32)\n",
    "dataset_test_single = enc_single.encode(df_test[\"smiles\"], df_test[\"activity\"], torch.float32)\n",
    "\n",
    "# Get the dimensions of the encoding\n",
    "dims_single = [\n",
    "    len(dataset_train_single[0][i][0])\n",
    "    for i in range(len(dataset_train_single[0]) - 1)\n",
    "]"
   ]
  },
  {
   "cell_type": "markdown",
   "metadata": {},
   "source": [
    "#### Dual-set (MSR2)"
   ]
  },
  {
   "cell_type": "code",
   "execution_count": 4,
   "metadata": {},
   "outputs": [],
   "source": [
    "enc_dual = DualSetEncoder()\n",
    "dataset_train_dual = enc_dual.encode(df_train[\"smiles\"], df_train[\"activity\"], torch.float32)\n",
    "dataset_test_dual = enc_dual.encode(df_test[\"smiles\"], df_test[\"activity\"], torch.float32)\n",
    "\n",
    "# Get the dimensions of the encoding\n",
    "dims_dual = [\n",
    "    len(dataset_train_dual[0][i][0])\n",
    "    for i in range(len(dataset_train_dual[0]) - 1)\n",
    "]"
   ]
  },
  {
   "cell_type": "markdown",
   "metadata": {},
   "source": [
    "#### Set-enhanced GNN (SR-GNN)"
   ]
  },
  {
   "cell_type": "code",
   "execution_count": 5,
   "metadata": {},
   "outputs": [
    {
     "name": "stderr",
     "output_type": "stream",
     "text": [
      "100%|███████████████████████████████████████████████████████████████████████████████████████████████████| 2113/2113 [00:06<00:00, 328.23it/s]\n",
      "100%|█████████████████████████████████████████████████████████████████████████████████████████████████████| 529/529 [00:01<00:00, 320.94it/s]\n"
     ]
    }
   ],
   "source": [
    "enc_graph = GraphEncoder()\n",
    "dataset_train_graph = enc_graph.encode(df_train[\"smiles\"], df_train[\"activity\"], label_dtype=torch.float32)\n",
    "dataset_test_graph = enc_graph.encode(df_test[\"smiles\"], df_test[\"activity\"], label_dtype=torch.float32)\n",
    "\n",
    "# Get the dimensions of the encoding\n",
    "dims_graph = [\n",
    "    dataset_train_graph.dataset[0].num_node_features,\n",
    "    dataset_train_graph.dataset[0].num_edge_features,\n",
    "]"
   ]
  },
  {
   "cell_type": "markdown",
   "metadata": {},
   "source": [
    "### Get torch data loaders"
   ]
  },
  {
   "cell_type": "markdown",
   "metadata": {},
   "source": [
    "#### Single-set (MSR1)"
   ]
  },
  {
   "cell_type": "code",
   "execution_count": 18,
   "metadata": {},
   "outputs": [],
   "source": [
    "train_loader_single = DataLoader(\n",
    "    dataset_train_single,\n",
    "    batch_size=64,\n",
    "    shuffle=True,\n",
    "    num_workers=cpu_count() if cpu_count() < 8 else 8,\n",
    "    drop_last=True\n",
    ")\n",
    "\n",
    "test_loader_single = DataLoader(\n",
    "    dataset_test_single,\n",
    "    batch_size=64,\n",
    "    shuffle=True,\n",
    "    num_workers=cpu_count() if cpu_count() < 8 else 8,\n",
    "    drop_last=True\n",
    ")"
   ]
  },
  {
   "cell_type": "markdown",
   "metadata": {},
   "source": [
    "#### Dual-set (MSR2)"
   ]
  },
  {
   "cell_type": "code",
   "execution_count": 19,
   "metadata": {},
   "outputs": [],
   "source": [
    "train_loader_dual = DataLoader(\n",
    "    dataset_train_dual,\n",
    "    batch_size=64,\n",
    "    shuffle=True,\n",
    "    num_workers=cpu_count() if cpu_count() < 8 else 8,\n",
    "    drop_last=True\n",
    ")\n",
    "\n",
    "test_loader_dual = DataLoader(\n",
    "    dataset_test_dual,\n",
    "    batch_size=64,\n",
    "    shuffle=True,\n",
    "    num_workers=cpu_count() if cpu_count() < 8 else 8,\n",
    "    drop_last=True\n",
    ")"
   ]
  },
  {
   "cell_type": "markdown",
   "metadata": {},
   "source": [
    "#### Set-enhanced GNN (SR-GNN)"
   ]
  },
  {
   "cell_type": "code",
   "execution_count": 20,
   "metadata": {},
   "outputs": [],
   "source": [
    "train_loader_graph = dataset_train_graph\n",
    "test_loader_graph = dataset_test_graph"
   ]
  },
  {
   "cell_type": "markdown",
   "metadata": {},
   "source": [
    "## Train"
   ]
  },
  {
   "cell_type": "markdown",
   "metadata": {},
   "source": [
    "### Initialise the model"
   ]
  },
  {
   "cell_type": "markdown",
   "metadata": {},
   "source": [
    "#### Single-set (MSR1)"
   ]
  },
  {
   "cell_type": "code",
   "execution_count": 21,
   "metadata": {},
   "outputs": [],
   "source": [
    "model_single = LightningSRRegressor([64], [8], dims_single)"
   ]
  },
  {
   "cell_type": "markdown",
   "metadata": {},
   "source": [
    "#### Dual-set (MSR2)"
   ]
  },
  {
   "cell_type": "code",
   "execution_count": 22,
   "metadata": {},
   "outputs": [],
   "source": [
    "model_dual = LightningDualSRRegressor([64, 64], [8, 8], dims_dual)"
   ]
  },
  {
   "cell_type": "markdown",
   "metadata": {},
   "source": [
    "#### Set-enhanced GNN (SR-GNN)"
   ]
  },
  {
   "cell_type": "code",
   "execution_count": 23,
   "metadata": {},
   "outputs": [],
   "source": [
    "model_graph = LightningSRGNNRegressor(\n",
    "    [128, 128], [64, 64],\n",
    "    n_hidden_channels=[128, 64],\n",
    "    n_in_channels=dims_graph[0], \n",
    "    n_edge_channels=dims_graph[1],\n",
    "    n_layers=8\n",
    ")"
   ]
  },
  {
   "cell_type": "markdown",
   "metadata": {},
   "source": [
    "### Initialise the trainer and fit"
   ]
  },
  {
   "cell_type": "markdown",
   "metadata": {},
   "source": [
    "#### Single-set (MSR1)"
   ]
  },
  {
   "cell_type": "code",
   "execution_count": 25,
   "metadata": {},
   "outputs": [
    {
     "name": "stderr",
     "output_type": "stream",
     "text": [
      "GPU available: True (cuda), used: True\n",
      "TPU available: False, using: 0 TPU cores\n",
      "HPU available: False, using: 0 HPUs\n",
      "LOCAL_RANK: 0 - CUDA_VISIBLE_DEVICES: [0]\n",
      "\n",
      "   | Name          | Type              | Params | Mode \n",
      "-------------------------------------------------------------\n",
      "0  | sr_regressor  | SRRegressor       | 70.9 K | train\n",
      "1  | train_r2      | R2Score           | 0      | train\n",
      "2  | train_pearson | PearsonCorrCoef   | 0      | train\n",
      "3  | train_rmse    | MeanSquaredError  | 0      | train\n",
      "4  | train_mae     | MeanAbsoluteError | 0      | train\n",
      "5  | val_r2        | R2Score           | 0      | train\n",
      "6  | val_pearson   | PearsonCorrCoef   | 0      | train\n",
      "7  | val_rmse      | MeanSquaredError  | 0      | train\n",
      "8  | val_mae       | MeanAbsoluteError | 0      | train\n",
      "9  | test_r2       | R2Score           | 0      | train\n",
      "10 | test_pearson  | PearsonCorrCoef   | 0      | train\n",
      "11 | test_rmse     | MeanSquaredError  | 0      | train\n",
      "12 | test_mae      | MeanAbsoluteError | 0      | train\n",
      "-------------------------------------------------------------\n",
      "70.9 K    Trainable params\n",
      "0         Non-trainable params\n",
      "70.9 K    Total params\n",
      "0.284     Total estimated model params size (MB)\n",
      "23        Modules in train mode\n",
      "0         Modules in eval mode\n"
     ]
    },
    {
     "name": "stdout",
     "output_type": "stream",
     "text": [
      "Epoch 249: 100%|███████████████████████████████████████████████████████████████████████████████████| 33/33 [00:00<00:00, 117.71it/s, v_num=4]"
     ]
    },
    {
     "name": "stderr",
     "output_type": "stream",
     "text": [
      "`Trainer.fit` stopped: `max_epochs=250` reached.\n"
     ]
    },
    {
     "name": "stdout",
     "output_type": "stream",
     "text": [
      "Epoch 249: 100%|███████████████████████████████████████████████████████████████████████████████████| 33/33 [00:00<00:00, 115.56it/s, v_num=4]"
     ]
    },
    {
     "name": "stderr",
     "output_type": "stream",
     "text": [
      "/home/daenu/micromamba/envs/molsetrep-fix/lib/python3.11/site-packages/lightning/pytorch/trainer/connectors/checkpoint_connector.py:145: `.test(ckpt_path=None)` was called without a model. The best model of the previous `fit` call will be used. You can pass `.test(ckpt_path='best')` to use the best model or `.test(ckpt_path='last')` to use the last model. If you pass a value, this warning will be silenced.\n",
      "Restoring states from the checkpoint path at /home/daenu/Code/fix/molsetrep/example/lightning_logs/version_4/checkpoints/epoch=249-step=8250.ckpt\n",
      "LOCAL_RANK: 0 - CUDA_VISIBLE_DEVICES: [0]\n",
      "Loaded model weights from the checkpoint at /home/daenu/Code/fix/molsetrep/example/lightning_logs/version_4/checkpoints/epoch=249-step=8250.ckpt\n"
     ]
    },
    {
     "name": "stdout",
     "output_type": "stream",
     "text": [
      "\n"
     ]
    },
    {
     "name": "stderr",
     "output_type": "stream",
     "text": [
      "/home/daenu/micromamba/envs/molsetrep-fix/lib/python3.11/site-packages/lightning/pytorch/trainer/connectors/data_connector.py:475: Your `test_dataloader`'s sampler has shuffling enabled, it is strongly recommended that you turn shuffling off for val/test dataloaders.\n"
     ]
    },
    {
     "name": "stdout",
     "output_type": "stream",
     "text": [
      "Testing DataLoader 0: 100%|███████████████████████████████████████████████████████████████████████████████████| 8/8 [00:00<00:00, 218.30it/s]\n"
     ]
    },
    {
     "data": {
      "text/html": [
       "<pre style=\"white-space:pre;overflow-x:auto;line-height:normal;font-family:Menlo,'DejaVu Sans Mono',consolas,'Courier New',monospace\">┏━━━━━━━━━━━━━━━━━━━━━━━━━━━┳━━━━━━━━━━━━━━━━━━━━━━━━━━━┓\n",
       "┃<span style=\"font-weight: bold\">        Test metric        </span>┃<span style=\"font-weight: bold\">       DataLoader 0        </span>┃\n",
       "┡━━━━━━━━━━━━━━━━━━━━━━━━━━━╇━━━━━━━━━━━━━━━━━━━━━━━━━━━┩\n",
       "│<span style=\"color: #008080; text-decoration-color: #008080\">         test/loss         </span>│<span style=\"color: #800080; text-decoration-color: #800080\">    0.26776665449142456    </span>│\n",
       "│<span style=\"color: #008080; text-decoration-color: #008080\">         test/mae          </span>│<span style=\"color: #800080; text-decoration-color: #800080\">    0.39242780208587646    </span>│\n",
       "│<span style=\"color: #008080; text-decoration-color: #008080\">       test/pearson        </span>│<span style=\"color: #800080; text-decoration-color: #800080\">    0.6880572438240051     </span>│\n",
       "│<span style=\"color: #008080; text-decoration-color: #008080\">          test/r2          </span>│<span style=\"color: #800080; text-decoration-color: #800080\">    0.4690614938735962     </span>│\n",
       "│<span style=\"color: #008080; text-decoration-color: #008080\">         test/rmse         </span>│<span style=\"color: #800080; text-decoration-color: #800080\">    0.5174617171287537     </span>│\n",
       "└───────────────────────────┴───────────────────────────┘\n",
       "</pre>\n"
      ],
      "text/plain": [
       "┏━━━━━━━━━━━━━━━━━━━━━━━━━━━┳━━━━━━━━━━━━━━━━━━━━━━━━━━━┓\n",
       "┃\u001b[1m \u001b[0m\u001b[1m       Test metric       \u001b[0m\u001b[1m \u001b[0m┃\u001b[1m \u001b[0m\u001b[1m      DataLoader 0       \u001b[0m\u001b[1m \u001b[0m┃\n",
       "┡━━━━━━━━━━━━━━━━━━━━━━━━━━━╇━━━━━━━━━━━━━━━━━━━━━━━━━━━┩\n",
       "│\u001b[36m \u001b[0m\u001b[36m        test/loss        \u001b[0m\u001b[36m \u001b[0m│\u001b[35m \u001b[0m\u001b[35m   0.26776665449142456   \u001b[0m\u001b[35m \u001b[0m│\n",
       "│\u001b[36m \u001b[0m\u001b[36m        test/mae         \u001b[0m\u001b[36m \u001b[0m│\u001b[35m \u001b[0m\u001b[35m   0.39242780208587646   \u001b[0m\u001b[35m \u001b[0m│\n",
       "│\u001b[36m \u001b[0m\u001b[36m      test/pearson       \u001b[0m\u001b[36m \u001b[0m│\u001b[35m \u001b[0m\u001b[35m   0.6880572438240051    \u001b[0m\u001b[35m \u001b[0m│\n",
       "│\u001b[36m \u001b[0m\u001b[36m         test/r2         \u001b[0m\u001b[36m \u001b[0m│\u001b[35m \u001b[0m\u001b[35m   0.4690614938735962    \u001b[0m\u001b[35m \u001b[0m│\n",
       "│\u001b[36m \u001b[0m\u001b[36m        test/rmse        \u001b[0m\u001b[36m \u001b[0m│\u001b[35m \u001b[0m\u001b[35m   0.5174617171287537    \u001b[0m\u001b[35m \u001b[0m│\n",
       "└───────────────────────────┴───────────────────────────┘\n"
      ]
     },
     "metadata": {},
     "output_type": "display_data"
    },
    {
     "data": {
      "text/plain": [
       "[{'test/loss': 0.26776665449142456,\n",
       "  'test/r2': 0.4690614938735962,\n",
       "  'test/pearson': 0.6880572438240051,\n",
       "  'test/rmse': 0.5174617171287537,\n",
       "  'test/mae': 0.39242780208587646}]"
      ]
     },
     "execution_count": 25,
     "metadata": {},
     "output_type": "execute_result"
    }
   ],
   "source": [
    "trainer_single = pl.Trainer(\n",
    "    max_epochs=250,\n",
    ")\n",
    "\n",
    "trainer_single.fit(model_single, train_dataloaders=train_loader_single)\n",
    "trainer_single.test(dataloaders=test_loader_single)"
   ]
  },
  {
   "cell_type": "markdown",
   "metadata": {},
   "source": [
    "#### Dual-set (MSR2)"
   ]
  },
  {
   "cell_type": "code",
   "execution_count": 26,
   "metadata": {},
   "outputs": [
    {
     "name": "stderr",
     "output_type": "stream",
     "text": [
      "GPU available: True (cuda), used: True\n",
      "TPU available: False, using: 0 TPU cores\n",
      "HPU available: False, using: 0 HPUs\n",
      "LOCAL_RANK: 0 - CUDA_VISIBLE_DEVICES: [0]\n",
      "\n",
      "   | Name          | Type              | Params | Mode \n",
      "-------------------------------------------------------------\n",
      "0  | sr_regressor  | DualSRRegressor   | 191 K  | train\n",
      "1  | train_r2      | R2Score           | 0      | train\n",
      "2  | train_pearson | PearsonCorrCoef   | 0      | train\n",
      "3  | train_rmse    | MeanSquaredError  | 0      | train\n",
      "4  | train_mae     | MeanAbsoluteError | 0      | train\n",
      "5  | val_r2        | R2Score           | 0      | train\n",
      "6  | val_pearson   | PearsonCorrCoef   | 0      | train\n",
      "7  | val_rmse      | MeanSquaredError  | 0      | train\n",
      "8  | val_mae       | MeanAbsoluteError | 0      | train\n",
      "9  | test_r2       | R2Score           | 0      | train\n",
      "10 | test_pearson  | PearsonCorrCoef   | 0      | train\n",
      "11 | test_rmse     | MeanSquaredError  | 0      | train\n",
      "12 | test_mae      | MeanAbsoluteError | 0      | train\n",
      "-------------------------------------------------------------\n",
      "191 K     Trainable params\n",
      "0         Non-trainable params\n",
      "191 K     Total params\n",
      "0.766     Total estimated model params size (MB)\n",
      "27        Modules in train mode\n",
      "0         Modules in eval mode\n"
     ]
    },
    {
     "name": "stdout",
     "output_type": "stream",
     "text": [
      "Epoch 249: 100%|███████████████████████████████████████████████████████████████████████████████████| 33/33 [00:00<00:00, 118.57it/s, v_num=5]"
     ]
    },
    {
     "name": "stderr",
     "output_type": "stream",
     "text": [
      "`Trainer.fit` stopped: `max_epochs=250` reached.\n"
     ]
    },
    {
     "name": "stdout",
     "output_type": "stream",
     "text": [
      "Epoch 249: 100%|███████████████████████████████████████████████████████████████████████████████████| 33/33 [00:00<00:00, 115.55it/s, v_num=5]"
     ]
    },
    {
     "name": "stderr",
     "output_type": "stream",
     "text": [
      "Restoring states from the checkpoint path at /home/daenu/Code/fix/molsetrep/example/lightning_logs/version_5/checkpoints/epoch=249-step=8250.ckpt\n",
      "LOCAL_RANK: 0 - CUDA_VISIBLE_DEVICES: [0]\n",
      "Loaded model weights from the checkpoint at /home/daenu/Code/fix/molsetrep/example/lightning_logs/version_5/checkpoints/epoch=249-step=8250.ckpt\n"
     ]
    },
    {
     "name": "stdout",
     "output_type": "stream",
     "text": [
      "\n",
      "Testing DataLoader 0: 100%|███████████████████████████████████████████████████████████████████████████████████| 8/8 [00:00<00:00, 191.97it/s]\n"
     ]
    },
    {
     "data": {
      "text/html": [
       "<pre style=\"white-space:pre;overflow-x:auto;line-height:normal;font-family:Menlo,'DejaVu Sans Mono',consolas,'Courier New',monospace\">┏━━━━━━━━━━━━━━━━━━━━━━━━━━━┳━━━━━━━━━━━━━━━━━━━━━━━━━━━┓\n",
       "┃<span style=\"font-weight: bold\">        Test metric        </span>┃<span style=\"font-weight: bold\">       DataLoader 0        </span>┃\n",
       "┡━━━━━━━━━━━━━━━━━━━━━━━━━━━╇━━━━━━━━━━━━━━━━━━━━━━━━━━━┩\n",
       "│<span style=\"color: #008080; text-decoration-color: #008080\">         test/loss         </span>│<span style=\"color: #800080; text-decoration-color: #800080\">    0.27378132939338684    </span>│\n",
       "│<span style=\"color: #008080; text-decoration-color: #008080\">         test/mae          </span>│<span style=\"color: #800080; text-decoration-color: #800080\">    0.38792866468429565    </span>│\n",
       "│<span style=\"color: #008080; text-decoration-color: #008080\">       test/pearson        </span>│<span style=\"color: #800080; text-decoration-color: #800080\">    0.6984140872955322     </span>│\n",
       "│<span style=\"color: #008080; text-decoration-color: #008080\">          test/r2          </span>│<span style=\"color: #800080; text-decoration-color: #800080\">    0.4561035633087158     </span>│\n",
       "│<span style=\"color: #008080; text-decoration-color: #008080\">         test/rmse         </span>│<span style=\"color: #800080; text-decoration-color: #800080\">    0.5232411623001099     </span>│\n",
       "└───────────────────────────┴───────────────────────────┘\n",
       "</pre>\n"
      ],
      "text/plain": [
       "┏━━━━━━━━━━━━━━━━━━━━━━━━━━━┳━━━━━━━━━━━━━━━━━━━━━━━━━━━┓\n",
       "┃\u001b[1m \u001b[0m\u001b[1m       Test metric       \u001b[0m\u001b[1m \u001b[0m┃\u001b[1m \u001b[0m\u001b[1m      DataLoader 0       \u001b[0m\u001b[1m \u001b[0m┃\n",
       "┡━━━━━━━━━━━━━━━━━━━━━━━━━━━╇━━━━━━━━━━━━━━━━━━━━━━━━━━━┩\n",
       "│\u001b[36m \u001b[0m\u001b[36m        test/loss        \u001b[0m\u001b[36m \u001b[0m│\u001b[35m \u001b[0m\u001b[35m   0.27378132939338684   \u001b[0m\u001b[35m \u001b[0m│\n",
       "│\u001b[36m \u001b[0m\u001b[36m        test/mae         \u001b[0m\u001b[36m \u001b[0m│\u001b[35m \u001b[0m\u001b[35m   0.38792866468429565   \u001b[0m\u001b[35m \u001b[0m│\n",
       "│\u001b[36m \u001b[0m\u001b[36m      test/pearson       \u001b[0m\u001b[36m \u001b[0m│\u001b[35m \u001b[0m\u001b[35m   0.6984140872955322    \u001b[0m\u001b[35m \u001b[0m│\n",
       "│\u001b[36m \u001b[0m\u001b[36m         test/r2         \u001b[0m\u001b[36m \u001b[0m│\u001b[35m \u001b[0m\u001b[35m   0.4561035633087158    \u001b[0m\u001b[35m \u001b[0m│\n",
       "│\u001b[36m \u001b[0m\u001b[36m        test/rmse        \u001b[0m\u001b[36m \u001b[0m│\u001b[35m \u001b[0m\u001b[35m   0.5232411623001099    \u001b[0m\u001b[35m \u001b[0m│\n",
       "└───────────────────────────┴───────────────────────────┘\n"
      ]
     },
     "metadata": {},
     "output_type": "display_data"
    },
    {
     "data": {
      "text/plain": [
       "[{'test/loss': 0.27378132939338684,\n",
       "  'test/r2': 0.4561035633087158,\n",
       "  'test/pearson': 0.6984140872955322,\n",
       "  'test/rmse': 0.5232411623001099,\n",
       "  'test/mae': 0.38792866468429565}]"
      ]
     },
     "execution_count": 26,
     "metadata": {},
     "output_type": "execute_result"
    }
   ],
   "source": [
    "trainer_dual = pl.Trainer(\n",
    "    max_epochs=250,\n",
    ")\n",
    "\n",
    "trainer_dual.fit(model_dual, train_dataloaders=train_loader_dual)\n",
    "trainer_dual.test(dataloaders=test_loader_dual)"
   ]
  },
  {
   "cell_type": "markdown",
   "metadata": {},
   "source": [
    "#### Set-enhanced GNN (SR-GNN)"
   ]
  },
  {
   "cell_type": "code",
   "execution_count": 27,
   "metadata": {},
   "outputs": [
    {
     "name": "stderr",
     "output_type": "stream",
     "text": [
      "GPU available: True (cuda), used: True\n",
      "TPU available: False, using: 0 TPU cores\n",
      "HPU available: False, using: 0 HPUs\n",
      "LOCAL_RANK: 0 - CUDA_VISIBLE_DEVICES: [0]\n",
      "\n",
      "   | Name          | Type              | Params | Mode \n",
      "-------------------------------------------------------------\n",
      "0  | gnn_regressor | SRGNNRegressor    | 1.5 M  | train\n",
      "1  | train_r2      | R2Score           | 0      | train\n",
      "2  | train_pearson | PearsonCorrCoef   | 0      | train\n",
      "3  | train_rmse    | MeanSquaredError  | 0      | train\n",
      "4  | train_mae     | MeanAbsoluteError | 0      | train\n",
      "5  | val_r2        | R2Score           | 0      | train\n",
      "6  | val_pearson   | PearsonCorrCoef   | 0      | train\n",
      "7  | val_rmse      | MeanSquaredError  | 0      | train\n",
      "8  | val_mae       | MeanAbsoluteError | 0      | train\n",
      "9  | test_r2       | R2Score           | 0      | train\n",
      "10 | test_pearson  | PearsonCorrCoef   | 0      | train\n",
      "11 | test_rmse     | MeanSquaredError  | 0      | train\n",
      "12 | test_mae      | MeanAbsoluteError | 0      | train\n",
      "-------------------------------------------------------------\n",
      "1.5 M     Trainable params\n",
      "0         Non-trainable params\n",
      "1.5 M     Total params\n",
      "5.942     Total estimated model params size (MB)\n",
      "111       Modules in train mode\n",
      "0         Modules in eval mode\n"
     ]
    },
    {
     "name": "stdout",
     "output_type": "stream",
     "text": [
      "Epoch 899: 100%|████████████████████████████████████████████████████████████████████████████████████| 33/33 [00:00<00:00, 72.84it/s, v_num=6]"
     ]
    },
    {
     "name": "stderr",
     "output_type": "stream",
     "text": [
      "`Trainer.fit` stopped: `max_epochs=900` reached.\n"
     ]
    },
    {
     "name": "stdout",
     "output_type": "stream",
     "text": [
      "Epoch 899: 100%|████████████████████████████████████████████████████████████████████████████████████| 33/33 [00:00<00:00, 68.08it/s, v_num=6]\n"
     ]
    },
    {
     "name": "stderr",
     "output_type": "stream",
     "text": [
      "Restoring states from the checkpoint path at /home/daenu/Code/fix/molsetrep/example/lightning_logs/version_6/checkpoints/epoch=899-step=29700.ckpt\n",
      "LOCAL_RANK: 0 - CUDA_VISIBLE_DEVICES: [0]\n",
      "Loaded model weights from the checkpoint at /home/daenu/Code/fix/molsetrep/example/lightning_logs/version_6/checkpoints/epoch=899-step=29700.ckpt\n"
     ]
    },
    {
     "name": "stdout",
     "output_type": "stream",
     "text": [
      "Testing DataLoader 0: 100%|███████████████████████████████████████████████████████████████████████████████████| 8/8 [00:00<00:00, 140.76it/s]\n"
     ]
    },
    {
     "data": {
      "text/html": [
       "<pre style=\"white-space:pre;overflow-x:auto;line-height:normal;font-family:Menlo,'DejaVu Sans Mono',consolas,'Courier New',monospace\">┏━━━━━━━━━━━━━━━━━━━━━━━━━━━┳━━━━━━━━━━━━━━━━━━━━━━━━━━━┓\n",
       "┃<span style=\"font-weight: bold\">        Test metric        </span>┃<span style=\"font-weight: bold\">       DataLoader 0        </span>┃\n",
       "┡━━━━━━━━━━━━━━━━━━━━━━━━━━━╇━━━━━━━━━━━━━━━━━━━━━━━━━━━┩\n",
       "│<span style=\"color: #008080; text-decoration-color: #008080\">         test/loss         </span>│<span style=\"color: #800080; text-decoration-color: #800080\">    0.18581531941890717    </span>│\n",
       "│<span style=\"color: #008080; text-decoration-color: #008080\">         test/mae          </span>│<span style=\"color: #800080; text-decoration-color: #800080\">    0.3162570595741272     </span>│\n",
       "│<span style=\"color: #008080; text-decoration-color: #008080\">       test/pearson        </span>│<span style=\"color: #800080; text-decoration-color: #800080\">    0.7939651012420654     </span>│\n",
       "│<span style=\"color: #008080; text-decoration-color: #008080\">          test/r2          </span>│<span style=\"color: #800080; text-decoration-color: #800080\">    0.6286168098449707     </span>│\n",
       "│<span style=\"color: #008080; text-decoration-color: #008080\">         test/rmse         </span>│<span style=\"color: #800080; text-decoration-color: #800080\">    0.4310629963874817     </span>│\n",
       "└───────────────────────────┴───────────────────────────┘\n",
       "</pre>\n"
      ],
      "text/plain": [
       "┏━━━━━━━━━━━━━━━━━━━━━━━━━━━┳━━━━━━━━━━━━━━━━━━━━━━━━━━━┓\n",
       "┃\u001b[1m \u001b[0m\u001b[1m       Test metric       \u001b[0m\u001b[1m \u001b[0m┃\u001b[1m \u001b[0m\u001b[1m      DataLoader 0       \u001b[0m\u001b[1m \u001b[0m┃\n",
       "┡━━━━━━━━━━━━━━━━━━━━━━━━━━━╇━━━━━━━━━━━━━━━━━━━━━━━━━━━┩\n",
       "│\u001b[36m \u001b[0m\u001b[36m        test/loss        \u001b[0m\u001b[36m \u001b[0m│\u001b[35m \u001b[0m\u001b[35m   0.18581531941890717   \u001b[0m\u001b[35m \u001b[0m│\n",
       "│\u001b[36m \u001b[0m\u001b[36m        test/mae         \u001b[0m\u001b[36m \u001b[0m│\u001b[35m \u001b[0m\u001b[35m   0.3162570595741272    \u001b[0m\u001b[35m \u001b[0m│\n",
       "│\u001b[36m \u001b[0m\u001b[36m      test/pearson       \u001b[0m\u001b[36m \u001b[0m│\u001b[35m \u001b[0m\u001b[35m   0.7939651012420654    \u001b[0m\u001b[35m \u001b[0m│\n",
       "│\u001b[36m \u001b[0m\u001b[36m         test/r2         \u001b[0m\u001b[36m \u001b[0m│\u001b[35m \u001b[0m\u001b[35m   0.6286168098449707    \u001b[0m\u001b[35m \u001b[0m│\n",
       "│\u001b[36m \u001b[0m\u001b[36m        test/rmse        \u001b[0m\u001b[36m \u001b[0m│\u001b[35m \u001b[0m\u001b[35m   0.4310629963874817    \u001b[0m\u001b[35m \u001b[0m│\n",
       "└───────────────────────────┴───────────────────────────┘\n"
      ]
     },
     "metadata": {},
     "output_type": "display_data"
    },
    {
     "data": {
      "text/plain": [
       "[{'test/loss': 0.18581531941890717,\n",
       "  'test/r2': 0.6286168098449707,\n",
       "  'test/pearson': 0.7939651012420654,\n",
       "  'test/rmse': 0.4310629963874817,\n",
       "  'test/mae': 0.3162570595741272}]"
      ]
     },
     "execution_count": 27,
     "metadata": {},
     "output_type": "execute_result"
    }
   ],
   "source": [
    "trainer_graph = pl.Trainer(\n",
    "    max_epochs=900,\n",
    ")\n",
    "\n",
    "trainer_graph.fit(model_graph, train_dataloaders=train_loader_graph)\n",
    "trainer_graph.test(dataloaders=test_loader_graph)"
   ]
  }
 ],
 "metadata": {
  "kernelspec": {
   "display_name": "Python 3 (ipykernel)",
   "language": "python",
   "name": "python3"
  },
  "language_info": {
   "codemirror_mode": {
    "name": "ipython",
    "version": 3
   },
   "file_extension": ".py",
   "mimetype": "text/x-python",
   "name": "python",
   "nbconvert_exporter": "python",
   "pygments_lexer": "ipython3",
   "version": "3.10.15"
  }
 },
 "nbformat": 4,
 "nbformat_minor": 4
}
