{
 "cells": [
  {
   "cell_type": "code",
   "execution_count": 1,
   "metadata": {},
   "outputs": [
    {
     "name": "stderr",
     "output_type": "stream",
     "text": [
      "Skipped loading some Tensorflow models, missing a dependency. No module named 'tensorflow'\n",
      "Skipped loading modules with pytorch-lightning dependency, missing a dependency. No module named 'pytorch_lightning'\n",
      "Skipped loading some Jax models, missing a dependency. No module named 'jax'\n"
     ]
    }
   ],
   "source": [
    "import torch\n",
    "\n",
    "from torcheval.metrics import R2Score, BinaryAccuracy, BinaryAUROC\n",
    "\n",
    "from molsetrep.utils.trainer import Trainer\n",
    "from molsetrep.utils.datasets import molnet_loader\n",
    "from molsetrep.utils.converters import molnet_to_pyg\n",
    "from molsetrep.utils.root_mean_squared_error import RootMeanSquaredError\n",
    "from molsetrep.models import GNNSetRepClassifier, GNNSetRepRegressor"
   ]
  },
  {
   "attachments": {},
   "cell_type": "markdown",
   "metadata": {},
   "source": [
    "## Classification"
   ]
  },
  {
   "cell_type": "code",
   "execution_count": null,
   "metadata": {},
   "outputs": [],
   "source": [
    "train, valid, test = molnet_loader(\"bbbp\")\n",
    "train_loader, valid_loader, test_loader = molnet_to_pyg(train, valid, test, label_type=torch.long, imbalanced_sampler=True)\n",
    "\n",
    "num_node_features = train_loader.dataset[0].num_node_features\n",
    "num_edge_features = train_loader.dataset[0].num_edge_features\n",
    "model = GNNSetRepClassifier(num_node_features, 256, 2, num_edge_features, 100, 32)\n",
    "\n",
    "optimizer = torch.optim.Adam(model.parameters(), lr=0.0001)\n",
    "scheduler = torch.optim.lr_scheduler.ExponentialLR(optimizer, gamma=0.9)\n",
    "criterion = torch.nn.NLLLoss()\n",
    "\n",
    "trainer = Trainer(\n",
    "    model,\n",
    "    optimizer,\n",
    "    criterion,\n",
    "    100,\n",
    "    [BinaryAccuracy(), BinaryAUROC()],\n",
    "    [BinaryAccuracy(), BinaryAUROC()],\n",
    "    [BinaryAccuracy(), BinaryAUROC()],\n",
    "    scheduler=scheduler,\n",
    "    monitor_metric=1,\n",
    "    monitor_lower_is_better=False\n",
    ")\n",
    "\n",
    "trainer.train(train_loader, valid_loader)\n",
    "trainer.test(test_loader)"
   ]
  },
  {
   "attachments": {},
   "cell_type": "markdown",
   "metadata": {},
   "source": [
    "## Regression"
   ]
  },
  {
   "cell_type": "code",
   "execution_count": 13,
   "metadata": {},
   "outputs": [
    {
     "name": "stderr",
     "output_type": "stream",
     "text": [
      "/home/daenu/miniconda3/envs/molsetrep/lib/python3.9/site-packages/deepchem/feat/molecule_featurizers/coulomb_matrices.py:145: RuntimeWarning: divide by zero encountered in divide\n",
      "  m = np.outer(z, z) / d\n"
     ]
    },
    {
     "ename": "KeyError",
     "evalue": "'bond_type'",
     "output_type": "error",
     "traceback": [
      "\u001b[0;31m---------------------------------------------------------------------------\u001b[0m",
      "\u001b[0;31mKeyError\u001b[0m                                  Traceback (most recent call last)",
      "Cell \u001b[0;32mIn[13], line 2\u001b[0m\n\u001b[1;32m      1\u001b[0m train, valid, test \u001b[39m=\u001b[39m molnet_loader(\u001b[39m\"\u001b[39m\u001b[39mqm7\u001b[39m\u001b[39m\"\u001b[39m)\n\u001b[0;32m----> 2\u001b[0m train_loader, valid_loader, test_loader \u001b[39m=\u001b[39m molnet_to_pyg(train, valid, test, label_type\u001b[39m=\u001b[39;49mtorch\u001b[39m.\u001b[39;49mfloat)\n\u001b[1;32m      4\u001b[0m num_node_features \u001b[39m=\u001b[39m train_loader\u001b[39m.\u001b[39mdataset[\u001b[39m0\u001b[39m]\u001b[39m.\u001b[39mnum_node_features\n\u001b[1;32m      5\u001b[0m num_edge_features \u001b[39m=\u001b[39m train_loader\u001b[39m.\u001b[39mdataset[\u001b[39m0\u001b[39m]\u001b[39m.\u001b[39mnum_edge_features\n",
      "File \u001b[0;32m~/code/molsetrep/src/molsetrep/utils/converters.py:219\u001b[0m, in \u001b[0;36mmolnet_to_pyg\u001b[0;34m(train, valid, test, task, batch_size, atom_attrs, bond_attrs, suppress_rdkit_warnings, label_type)\u001b[0m\n\u001b[1;32m    216\u001b[0m train_data_list \u001b[39m=\u001b[39m []\n\u001b[1;32m    217\u001b[0m \u001b[39mfor\u001b[39;00m i, G \u001b[39min\u001b[39;00m \u001b[39menumerate\u001b[39m([smiles_to_nx(s) \u001b[39mfor\u001b[39;00m s \u001b[39min\u001b[39;00m train\u001b[39m.\u001b[39mids]):\n\u001b[1;32m    218\u001b[0m     train_data_list\u001b[39m.\u001b[39mappend(\n\u001b[0;32m--> 219\u001b[0m         nx_to_pyg(\n\u001b[1;32m    220\u001b[0m             G,\n\u001b[1;32m    221\u001b[0m             group_node_attrs\u001b[39m=\u001b[39;49matom_attrs,\n\u001b[1;32m    222\u001b[0m             group_edge_attrs\u001b[39m=\u001b[39;49mbond_attrs,\n\u001b[1;32m    223\u001b[0m             y\u001b[39m=\u001b[39;49mtorch\u001b[39m.\u001b[39;49mtensor([train\u001b[39m.\u001b[39;49my[i][task]], dtype\u001b[39m=\u001b[39;49mlabel_type),\n\u001b[1;32m    224\u001b[0m         )\n\u001b[1;32m    225\u001b[0m     )\n\u001b[1;32m    227\u001b[0m valid_data_list \u001b[39m=\u001b[39m []\n\u001b[1;32m    228\u001b[0m \u001b[39mfor\u001b[39;00m i, G \u001b[39min\u001b[39;00m \u001b[39menumerate\u001b[39m([smiles_to_nx(s) \u001b[39mfor\u001b[39;00m s \u001b[39min\u001b[39;00m valid\u001b[39m.\u001b[39mids]):\n",
      "File \u001b[0;32m~/code/molsetrep/src/molsetrep/utils/converters.py:167\u001b[0m, in \u001b[0;36mnx_to_pyg\u001b[0;34m(G, group_node_attrs, group_edge_attrs, y)\u001b[0m\n\u001b[1;32m    165\u001b[0m \u001b[39mfor\u001b[39;00m key \u001b[39min\u001b[39;00m group_edge_attrs:\n\u001b[1;32m    166\u001b[0m     key \u001b[39m=\u001b[39m \u001b[39mf\u001b[39m\u001b[39m\"\u001b[39m\u001b[39medge_\u001b[39m\u001b[39m{\u001b[39;00mkey\u001b[39m}\u001b[39;00m\u001b[39m\"\u001b[39m \u001b[39mif\u001b[39;00m key \u001b[39min\u001b[39;00m node_attrs \u001b[39melse\u001b[39;00m key\n\u001b[0;32m--> 167\u001b[0m     x \u001b[39m=\u001b[39m data[key]\n\u001b[1;32m    168\u001b[0m     x \u001b[39m=\u001b[39m x\u001b[39m.\u001b[39mview(\u001b[39m-\u001b[39m\u001b[39m1\u001b[39m, \u001b[39m1\u001b[39m) \u001b[39mif\u001b[39;00m x\u001b[39m.\u001b[39mdim() \u001b[39m<\u001b[39m\u001b[39m=\u001b[39m \u001b[39m1\u001b[39m \u001b[39melse\u001b[39;00m x\n\u001b[1;32m    169\u001b[0m     xs\u001b[39m.\u001b[39mappend(x)\n",
      "File \u001b[0;32m~/miniconda3/envs/molsetrep/lib/python3.9/site-packages/torch_geometric/data/data.py:457\u001b[0m, in \u001b[0;36mData.__getitem__\u001b[0;34m(self, key)\u001b[0m\n\u001b[1;32m    456\u001b[0m \u001b[39mdef\u001b[39;00m \u001b[39m__getitem__\u001b[39m(\u001b[39mself\u001b[39m, key: \u001b[39mstr\u001b[39m) \u001b[39m-\u001b[39m\u001b[39m>\u001b[39m Any:\n\u001b[0;32m--> 457\u001b[0m     \u001b[39mreturn\u001b[39;00m \u001b[39mself\u001b[39;49m\u001b[39m.\u001b[39;49m_store[key]\n",
      "File \u001b[0;32m~/miniconda3/envs/molsetrep/lib/python3.9/site-packages/torch_geometric/data/storage.py:104\u001b[0m, in \u001b[0;36mBaseStorage.__getitem__\u001b[0;34m(self, key)\u001b[0m\n\u001b[1;32m    103\u001b[0m \u001b[39mdef\u001b[39;00m \u001b[39m__getitem__\u001b[39m(\u001b[39mself\u001b[39m, key: \u001b[39mstr\u001b[39m) \u001b[39m-\u001b[39m\u001b[39m>\u001b[39m Any:\n\u001b[0;32m--> 104\u001b[0m     \u001b[39mreturn\u001b[39;00m \u001b[39mself\u001b[39;49m\u001b[39m.\u001b[39;49m_mapping[key]\n",
      "\u001b[0;31mKeyError\u001b[0m: 'bond_type'"
     ]
    }
   ],
   "source": [
    "train, valid, test = molnet_loader(\"lipo\")\n",
    "train_loader, valid_loader, test_loader = molnet_to_pyg(train, valid, test, label_type=torch.float)\n",
    "\n",
    "num_node_features = train_loader.dataset[0].num_node_features\n",
    "num_edge_features = train_loader.dataset[0].num_edge_features\n",
    "model = GNNSetRepRegressor(num_node_features, 256, 2, num_edge_features, 100, 16)\n",
    "\n",
    "optimizer = torch.optim.Adam(model.parameters(), lr=0.00001)\n",
    "criterion = torch.nn.MSELoss()\n",
    "\n",
    "trainer = Trainer(\n",
    "    model,\n",
    "    optimizer,\n",
    "    criterion,\n",
    "    200,\n",
    "    [R2Score(), RootMeanSquaredError()],\n",
    "    [R2Score(), RootMeanSquaredError()],\n",
    "    [R2Score(), RootMeanSquaredError()],\n",
    "    monitor_metric=1\n",
    ")\n",
    "\n",
    "trainer.train(train_loader, valid_loader)\n",
    "trainer.test(test_loader)"
   ]
  },
  {
   "cell_type": "code",
   "execution_count": null,
   "metadata": {},
   "outputs": [],
   "source": []
  }
 ],
 "metadata": {
  "kernelspec": {
   "display_name": "molsetrep",
   "language": "python",
   "name": "python3"
  },
  "language_info": {
   "codemirror_mode": {
    "name": "ipython",
    "version": 3
   },
   "file_extension": ".py",
   "mimetype": "text/x-python",
   "name": "python",
   "nbconvert_exporter": "python",
   "pygments_lexer": "ipython3",
   "version": "3.9.16"
  },
  "orig_nbformat": 4
 },
 "nbformat": 4,
 "nbformat_minor": 2
}
