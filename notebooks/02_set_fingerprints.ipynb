{
 "cells": [
  {
   "cell_type": "code",
   "execution_count": 1,
   "metadata": {},
   "outputs": [
    {
     "name": "stderr",
     "output_type": "stream",
     "text": [
      "Skipped loading some Tensorflow models, missing a dependency. No module named 'tensorflow'\n",
      "Skipped loading modules with pytorch-lightning dependency, missing a dependency. No module named 'pytorch_lightning'\n",
      "Skipped loading some Jax models, missing a dependency. No module named 'jax'\n"
     ]
    }
   ],
   "source": [
    "import torch\n",
    "import numpy as np\n",
    "\n",
    "from torch.utils.data import DataLoader\n",
    "from torcheval.metrics import BinaryAccuracy, BinaryAUROC\n",
    "from torchmetrics.regression import R2Score, MeanSquaredError, MeanAbsoluteError\n",
    "\n",
    "from molsetrep.utils.torch_trainer import TorchTrainer\n",
    "from molsetrep.utils.datasets import molnet_loader\n",
    "from molsetrep.utils.converters import molnet_to_pyg\n",
    "from molsetrep.utils.root_mean_squared_error import RootMeanSquaredError\n",
    "from molsetrep.utils.imbalanced_sampler import ImbalancedSampler\n",
    "from molsetrep.models import SetRepClassifier, SetRepRegressor, GNNDeepSetClassifier, DeepSet\n",
    "from molsetrep.encoders import SECMQNFPEncoder, SECFPEncoder, Mol2VecEncoder, Mol2SetEncoder\n",
    "\n",
    "from sklearn.preprocessing import StandardScaler\n"
   ]
  },
  {
   "attachments": {},
   "cell_type": "markdown",
   "metadata": {},
   "source": [
    "# SECMQNFP"
   ]
  },
  {
   "attachments": {},
   "cell_type": "markdown",
   "metadata": {},
   "source": [
    "## Classification"
   ]
  },
  {
   "cell_type": "code",
   "execution_count": 2,
   "metadata": {},
   "outputs": [],
   "source": [
    "train, valid, test = molnet_loader(\"bbbp\", splitter=\"scaffold\")\n",
    "enc = SECMQNFPEncoder()\n",
    "\n",
    "train_dataset, valid_dataset, test_dataset = enc.encode(\n",
    "    (train.ids, valid.ids, test.ids), \n",
    "    ([y[0] for y in train.y], [y[0] for y in valid.y], [y[0] for y in test.y]), \n",
    "    label_dtype=torch.long, standardize=False, radius=2, min_radius=0\n",
    ")\n",
    "\n",
    "train_loader = DataLoader(train_dataset, batch_size=128, sampler=ImbalancedSampler(train_dataset))\n",
    "valid_loader = DataLoader(valid_dataset, batch_size=128)\n",
    "test_loader = DataLoader(test_dataset, batch_size=128)"
   ]
  },
  {
   "cell_type": "markdown",
   "metadata": {},
   "source": [
    "### Set Rep Classifier"
   ]
  },
  {
   "cell_type": "code",
   "execution_count": 4,
   "metadata": {},
   "outputs": [
    {
     "name": "stdout",
     "output_type": "stream",
     "text": [
      "{'best_epoch': 200, 'loss': 0.8124533891677856, 'BinaryAccuracy': 0.6127451062202454, 'BinaryAUROC': 0.6057905385875325}\n",
      "{'best_epoch': 109, 'loss': 0.7147619724273682, 'BinaryAccuracy': 0.4852941036224365, 'BinaryAUROC': 0.4977839868966182}\n",
      "{'best_epoch': 23, 'loss': 0.6919282674789429, 'BinaryAccuracy': 0.4803921580314636, 'BinaryAUROC': 0.5046728971962616}\n",
      "{'best_epoch': 200, 'loss': 0.831345796585083, 'BinaryAccuracy': 0.6225489974021912, 'BinaryAUROC': 0.6117641391270835}\n",
      "{'best_epoch': 188, 'loss': 0.8055750131607056, 'BinaryAccuracy': 0.6225489974021912, 'BinaryAUROC': 0.6117641391270835}\n",
      "Mean 0.5663551401869159\n",
      "Std 0.0532650113684983\n"
     ]
    }
   ],
   "source": [
    "d = 42\n",
    "\n",
    "torch.manual_seed(1)\n",
    "\n",
    "results = []\n",
    "for _ in range(5):\n",
    "    model = SetRepClassifier(1, 1, d, 2)\n",
    "\n",
    "    optimizer = torch.optim.Adam(model.parameters(), lr=0.001)\n",
    "    # scheduler = torch.optim.lr_scheduler.ExponentialLR(optimizer, gamma=0.9)\n",
    "    criterion = torch.nn.NLLLoss()\n",
    "    \n",
    "    trainer = TorchTrainer(\n",
    "        model,\n",
    "        optimizer,\n",
    "        criterion,\n",
    "        200,\n",
    "        [BinaryAccuracy(), BinaryAUROC()],\n",
    "        [BinaryAccuracy(), BinaryAUROC()],\n",
    "        [BinaryAccuracy(), BinaryAUROC()],\n",
    "        # scheduler=scheduler,\n",
    "        # monitor_metric=1,\n",
    "        # monitor_lower_is_better=False,\n",
    "        silent=True\n",
    "    )\n",
    "\n",
    "    trainer.train(train_loader, valid_loader)\n",
    "    r = trainer.test(test_loader)[0]\n",
    "    print(r)\n",
    "    results.append(r[\"BinaryAUROC\"])\n",
    "\n",
    "print(\"Mean\", np.mean(results))\n",
    "print(\"Std\", np.std(results))\n",
    "\n",
    "# 100 epochs\n",
    "# {'best_epoch': 90, 'loss': 0.8859325647354126, 'BinaryAccuracy': 0.6715686321258545, 'BinaryAUROC': 0.6671644667116292}\n",
    "# {'best_epoch': 100, 'loss': 0.8769419193267822, 'BinaryAccuracy': 0.6911764740943909, 'BinaryAUROC': 0.6868195394546681}\n",
    "# {'best_epoch': 85, 'loss': 0.8609354496002197, 'BinaryAccuracy': 0.6519607901573181, 'BinaryAUROC': 0.6446189420946141}\n",
    "# {'best_epoch': 100, 'loss': 0.8549694418907166, 'BinaryAccuracy': 0.6323529481887817, 'BinaryAUROC': 0.6249638693515753}\n",
    "# {'best_epoch': 98, 'loss': 0.7837579846382141, 'BinaryAccuracy': 0.6813725233078003, 'BinaryAUROC': 0.6755467771461605}\n",
    "# Mean 0.6598227189517295\n",
    "# Std 0.022254302099624954\n",
    "\n",
    "# 200 epochs\n",
    "# {'best_epoch': 197, 'loss': 0.9870814085006714, 'BinaryAccuracy': 0.6813725233078003, 'BinaryAUROC': 0.6760285191251566}\n",
    "# {'best_epoch': 173, 'loss': 0.9504050612449646, 'BinaryAccuracy': 0.6274510025978088, 'BinaryAUROC': 0.6217361980923017}\n",
    "# {'best_epoch': 93, 'loss': 0.9911300539970398, 'BinaryAccuracy': 0.6323529481887817, 'BinaryAUROC': 0.6283360632045476}\n",
    "# {'best_epoch': 76, 'loss': 0.9773973226547241, 'BinaryAccuracy': 0.6813725233078003, 'BinaryAUROC': 0.6794007129781289}\n",
    "# {'best_epoch': 188, 'loss': 0.8548866510391235, 'BinaryAccuracy': 0.686274528503418, 'BinaryAUROC': 0.6831101262163985}\n",
    "# Mean 0.6577223239233068\n",
    "# Std 0.026863221740548518\n",
    "\n",
    "# 180 epochs (all the same as with 200) gives different results:\n",
    "# {'best_epoch': 177, 'loss': 0.9327479600906372, 'BinaryAccuracy': 0.6617646813392639, 'BinaryAUROC': 0.6583004142981019}\n",
    "# {'best_epoch': 176, 'loss': 0.8896770477294922, 'BinaryAccuracy': 0.6715686321258545, 'BinaryAUROC': 0.6652374987956451}\n",
    "# {'best_epoch': 158, 'loss': 0.950018048286438, 'BinaryAccuracy': 0.6764705777168274, 'BinaryAUROC': 0.6699103959919067}\n",
    "# {'best_epoch': 167, 'loss': 0.9776877164840698, 'BinaryAccuracy': 0.6715686321258545, 'BinaryAUROC': 0.6657192407746411}\n",
    "# {'best_epoch': 117, 'loss': 0.9929808378219604, 'BinaryAccuracy': 0.656862735748291, 'BinaryAUROC': 0.6521822911648522}\n",
    "# Mean 0.6622699682050295\n",
    "# Std 0.0062705413182455715"
   ]
  },
  {
   "cell_type": "markdown",
   "metadata": {},
   "source": [
    "### Deep Set Classifier"
   ]
  },
  {
   "cell_type": "code",
   "execution_count": 11,
   "metadata": {},
   "outputs": [
    {
     "name": "stdout",
     "output_type": "stream",
     "text": [
      "{'best_epoch': 112, 'loss': 0.9314103722572327, 'BinaryAccuracy': 0.6323529481887817, 'BinaryAUROC': 0.6235186434145872}\n",
      "{'best_epoch': 112, 'loss': 0.9856001138687134, 'BinaryAccuracy': 0.6127451062202454, 'BinaryAUROC': 0.6000096348395799}\n",
      "{'best_epoch': 150, 'loss': 0.9422915577888489, 'BinaryAccuracy': 0.6666666865348816, 'BinaryAUROC': 0.6586376336833992}\n",
      "{'best_epoch': 23, 'loss': 0.8390119671821594, 'BinaryAccuracy': 0.6323529481887817, 'BinaryAUROC': 0.6312265150785239}\n",
      "{'best_epoch': 172, 'loss': 0.8673347234725952, 'BinaryAccuracy': 0.6127451062202454, 'BinaryAUROC': 0.6053087966085364}\n",
      "Mean 0.6237402447249254\n",
      "Std 0.02086519222180576\n"
     ]
    }
   ],
   "source": [
    "d = 42\n",
    "\n",
    "torch.manual_seed(1)\n",
    "\n",
    "results = []\n",
    "for _ in range(5):\n",
    "    # model = SetRepClassifier(1, 1, d, 2)\n",
    "    model = DeepSet(d, 1, 2, 64)\n",
    "\n",
    "    optimizer = torch.optim.Adam(model.parameters(), lr=0.0001)\n",
    "    scheduler = torch.optim.lr_scheduler.ExponentialLR(optimizer, gamma=0.9)\n",
    "    criterion = torch.nn.NLLLoss()\n",
    "    \n",
    "    trainer = TorchTrainer(\n",
    "        model,\n",
    "        optimizer,\n",
    "        criterion,\n",
    "        200,\n",
    "        [BinaryAccuracy(), BinaryAUROC()],\n",
    "        [BinaryAccuracy(), BinaryAUROC()],\n",
    "        [BinaryAccuracy(), BinaryAUROC()],\n",
    "        # scheduler=scheduler,\n",
    "        monitor_metric=1,\n",
    "        monitor_lower_is_better=False,\n",
    "        silent=True\n",
    "    )\n",
    "\n",
    "    trainer.train(train_loader, valid_loader)\n",
    "    r = trainer.test(test_loader)[0]\n",
    "    print(r)\n",
    "    results.append(r[\"BinaryAUROC\"])\n",
    "\n",
    "print(\"Mean\", np.mean(results))\n",
    "print(\"Std\", np.std(results))"
   ]
  },
  {
   "attachments": {},
   "cell_type": "markdown",
   "metadata": {},
   "source": [
    "## Regression"
   ]
  },
  {
   "cell_type": "code",
   "execution_count": null,
   "metadata": {},
   "outputs": [],
   "source": [
    "train, valid, test = molnet_loader(\"lipo\")\n",
    "enc = SECMQNFPEncoder()\n",
    "\n",
    "train_dataset, valid_dataset, test_dataset = enc.encode(\n",
    "    (train.ids, valid.ids, test.ids), \n",
    "    ([y[0] for y in train.y], [y[0] for y in valid.y], [y[0] for y in test.y]), \n",
    "    label_dtype=torch.float, standardize=False\n",
    ")\n",
    "\n",
    "train_loader = DataLoader(train_dataset, batch_size=64)\n",
    "valid_loader = DataLoader(valid_dataset, batch_size=64)\n",
    "test_loader = DataLoader(test_dataset, batch_size=64)"
   ]
  },
  {
   "cell_type": "code",
   "execution_count": null,
   "metadata": {},
   "outputs": [],
   "source": [
    "d = 42\n",
    "model = SetRepRegressor(8, 32, d)\n",
    "\n",
    "optimizer = torch.optim.Adam(model.parameters(), lr=0.01)\n",
    "scheduler = torch.optim.lr_scheduler.ExponentialLR(optimizer, gamma=0.95)\n",
    "criterion = torch.nn.MSELoss()\n",
    "\n",
    "trainer = TorchTrainer(\n",
    "    model,\n",
    "    optimizer,\n",
    "    criterion,\n",
    "    200,\n",
    "    [R2Score(), RootMeanSquaredError()],\n",
    "    [R2Score(), RootMeanSquaredError()],\n",
    "    [R2Score(), RootMeanSquaredError()],\n",
    "    scheduler=scheduler,\n",
    "    monitor_metric=1,\n",
    "    monitor_lower_is_better=True\n",
    ")\n",
    "\n",
    "trainer.train(train_loader, valid_loader)\n",
    "trainer.test(test_loader)"
   ]
  },
  {
   "attachments": {},
   "cell_type": "markdown",
   "metadata": {},
   "source": [
    "# SECFP"
   ]
  },
  {
   "attachments": {},
   "cell_type": "markdown",
   "metadata": {},
   "source": [
    "## Classification"
   ]
  },
  {
   "cell_type": "code",
   "execution_count": null,
   "metadata": {},
   "outputs": [],
   "source": [
    "train, valid, test = molnet_loader(\"bace_classification\")\n",
    "graph_embedder = SECFPEncoder.fit(train.ids)\n",
    "\n",
    "enc = SECFPEncoder()\n",
    "\n",
    "train_dataset = enc.encode(train.ids, [y[0] for y in train.y], label_dtype=torch.long, graph_embedder=graph_embedder, pretrained_graph_embedder=True)\n",
    "valid_dataset = enc.encode(valid.ids, [y[0] for y in valid.y], label_dtype=torch.long, graph_embedder=graph_embedder, pretrained_graph_embedder=True)\n",
    "test_dataset = enc.encode(test.ids, [y[0] for y in test.y], label_dtype=torch.long, graph_embedder=graph_embedder, pretrained_graph_embedder=True)\n",
    "\n",
    "train_loader = DataLoader(train_dataset, batch_size=64, sampler=ImbalancedSampler(train_dataset))\n",
    "valid_loader = DataLoader(valid_dataset, batch_size=64)\n",
    "test_loader = DataLoader(test_dataset, batch_size=64)"
   ]
  },
  {
   "cell_type": "code",
   "execution_count": null,
   "metadata": {},
   "outputs": [],
   "source": [
    "d = 500\n",
    "model = SetRepClassifier(2, 8, d, 2)\n",
    "\n",
    "optimizer = torch.optim.Adam(model.parameters(), lr=0.00001)\n",
    "scheduler = torch.optim.lr_scheduler.ExponentialLR(optimizer, gamma=0.9)\n",
    "criterion = torch.nn.NLLLoss()\n",
    "\n",
    "trainer = TorchTrainer(\n",
    "    model,\n",
    "    optimizer,\n",
    "    criterion,\n",
    "    60,\n",
    "    [BinaryAccuracy(), BinaryAUROC()],\n",
    "    [BinaryAccuracy(), BinaryAUROC()],\n",
    "    [BinaryAccuracy(), BinaryAUROC()],\n",
    "    # scheduler=scheduler,\n",
    "    monitor_metric=1,\n",
    "    monitor_lower_is_better=False\n",
    ")\n",
    "\n",
    "trainer.train(train_loader, valid_loader)\n",
    "trainer.test(test_loader)"
   ]
  },
  {
   "attachments": {},
   "cell_type": "markdown",
   "metadata": {},
   "source": [
    "## Regression"
   ]
  },
  {
   "cell_type": "code",
   "execution_count": null,
   "metadata": {},
   "outputs": [],
   "source": []
  },
  {
   "attachments": {},
   "cell_type": "markdown",
   "metadata": {},
   "source": [
    "# Mol2Vec"
   ]
  },
  {
   "attachments": {},
   "cell_type": "markdown",
   "metadata": {},
   "source": [
    "## Classification"
   ]
  },
  {
   "cell_type": "code",
   "execution_count": null,
   "metadata": {},
   "outputs": [],
   "source": [
    "train, valid, test = molnet_loader(\"bbbp\")\n",
    "enc = Mol2SetEncoder()\n",
    "\n",
    "train_dataset = enc.encode(train.ids, [y[0] for y in train.y], label_dtype=torch.long)\n",
    "valid_dataset = enc.encode(valid.ids, [y[0] for y in valid.y], label_dtype=torch.long)\n",
    "test_dataset = enc.encode(test.ids, [y[0] for y in test.y], label_dtype=torch.long)\n",
    "\n",
    "train_loader = DataLoader(train_dataset, batch_size=128, sampler=ImbalancedSampler(train_dataset))\n",
    "valid_loader = DataLoader(valid_dataset, batch_size=128)\n",
    "test_loader = DataLoader(test_dataset, batch_size=128)"
   ]
  },
  {
   "cell_type": "code",
   "execution_count": null,
   "metadata": {},
   "outputs": [],
   "source": [
    "d = 300\n",
    "model = SetRepClassifier(8, 16, d, 2)\n",
    "\n",
    "optimizer = torch.optim.Adam(model.parameters(), lr=0.001)\n",
    "scheduler = torch.optim.lr_scheduler.ExponentialLR(optimizer, gamma=0.9)\n",
    "criterion = torch.nn.NLLLoss()\n",
    "\n",
    "trainer = TorchTrainer(\n",
    "    model,\n",
    "    optimizer,\n",
    "    criterion,\n",
    "    60,\n",
    "    [BinaryAccuracy(), BinaryAUROC()],\n",
    "    [BinaryAccuracy(), BinaryAUROC()],\n",
    "    [BinaryAccuracy(), BinaryAUROC()],\n",
    "    # scheduler=scheduler,\n",
    "    monitor_metric=1,\n",
    "    monitor_lower_is_better=False\n",
    ")\n",
    "\n",
    "trainer.train(train_loader, valid_loader)\n",
    "trainer.test(test_loader)"
   ]
  },
  {
   "attachments": {},
   "cell_type": "markdown",
   "metadata": {},
   "source": [
    "## Regression"
   ]
  },
  {
   "cell_type": "code",
   "execution_count": null,
   "metadata": {},
   "outputs": [],
   "source": [
    "train, valid, test = molnet_loader(\"delaney\", splitter=\"random\")\n",
    "enc = Mol2SetEncoder()\n",
    "\n",
    "train_dataset = enc.encode(train.ids, [y[0] for y in train.y], label_dtype=torch.float)\n",
    "valid_dataset = enc.encode(valid.ids, [y[0] for y in valid.y], label_dtype=torch.float)\n",
    "test_dataset = enc.encode(test.ids, [y[0] for y in test.y], label_dtype=torch.float)\n",
    "\n",
    "train_loader = DataLoader(train_dataset, batch_size=64)\n",
    "valid_loader = DataLoader(valid_dataset, batch_size=64)\n",
    "test_loader = DataLoader(test_dataset, batch_size=64)"
   ]
  },
  {
   "cell_type": "code",
   "execution_count": null,
   "metadata": {},
   "outputs": [],
   "source": [
    "d = 300\n",
    "model = SetRepRegressor(100, 16, d)\n",
    "\n",
    "optimizer = torch.optim.Adam(model.parameters(), lr=0.001)\n",
    "scheduler = torch.optim.lr_scheduler.ExponentialLR(optimizer, gamma=0.95)\n",
    "criterion = torch.nn.MSELoss()\n",
    "\n",
    "trainer = TorchTrainer(\n",
    "    model,\n",
    "    optimizer,\n",
    "    criterion,\n",
    "    200,\n",
    "    [R2Score(), MeanSquaredError(squared=False), MeanAbsoluteError()],\n",
    "    [R2Score(), MeanSquaredError(squared=False), MeanAbsoluteError()],\n",
    "    [R2Score(), MeanSquaredError(squared=False), MeanAbsoluteError()],\n",
    "    scheduler=scheduler,\n",
    "    monitor_metric=1,\n",
    "    monitor_lower_is_better=True\n",
    ")\n",
    "\n",
    "trainer.train(train_loader, valid_loader)\n",
    "trainer.test(test_loader)"
   ]
  }
 ],
 "metadata": {
  "kernelspec": {
   "display_name": "molsetrep",
   "language": "python",
   "name": "python3"
  },
  "language_info": {
   "codemirror_mode": {
    "name": "ipython",
    "version": 3
   },
   "file_extension": ".py",
   "mimetype": "text/x-python",
   "name": "python",
   "nbconvert_exporter": "python",
   "pygments_lexer": "ipython3",
   "version": "3.9.16"
  },
  "orig_nbformat": 4
 },
 "nbformat": 4,
 "nbformat_minor": 2
}
