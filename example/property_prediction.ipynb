{
 "cells": [
  {
   "cell_type": "markdown",
   "metadata": {},
   "source": [
    "# Molecular set representation learning - Molecular property prediction"
   ]
  },
  {
   "cell_type": "markdown",
   "metadata": {},
   "source": [
    "## Imports"
   ]
  },
  {
   "cell_type": "code",
   "execution_count": null,
   "metadata": {},
   "outputs": [],
   "source": [
    "from multiprocessing import cpu_count\n",
    "\n",
    "import torch\n",
    "\n",
    "import pandas as pd\n",
    "import lightning.pytorch as pl\n",
    "\n",
    "from torch.utils.data import DataLoader\n",
    "\n",
    "from molsetrep.models import (\n",
    "    LightningSRRegressor,\n",
    "    LightningDualSRRegressor,\n",
    "    LightningSRGNNRegressor,\n",
    ")\n",
    "from molsetrep.encoders import SingleSetEncoder, DualSetEncoder, GraphEncoder"
   ]
  },
  {
   "cell_type": "markdown",
   "metadata": {},
   "source": [
    "## Prepare the data"
   ]
  },
  {
   "cell_type": "markdown",
   "metadata": {},
   "source": [
    "### Load from file"
   ]
  },
  {
   "cell_type": "code",
   "execution_count": null,
   "metadata": {},
   "outputs": [],
   "source": [
    "df_train = pd.read_csv(\"../data/adme/ADME_MDR1_ER_train.csv\")\n",
    "df_test = pd.read_csv(\"../data/adme/ADME_MDR1_ER_test.csv\")"
   ]
  },
  {
   "cell_type": "markdown",
   "metadata": {},
   "source": [
    "### Encode the data"
   ]
  },
  {
   "cell_type": "markdown",
   "metadata": {},
   "source": [
    "#### Single-set (MSR1)"
   ]
  },
  {
   "cell_type": "code",
   "execution_count": null,
   "metadata": {},
   "outputs": [],
   "source": [
    "enc_single = SingleSetEncoder()\n",
    "dataset_train_single = enc_single.encode(df_train[\"smiles\"], df_train[\"activity\"], torch.float32)\n",
    "dataset_test_single = enc_single.encode(df_test[\"smiles\"], df_test[\"activity\"], torch.float32)\n",
    "\n",
    "# Get the dimensions of the encoding\n",
    "dims_single = [dataset_train_single[0][0].shape[0]]"
   ]
  },
  {
   "cell_type": "markdown",
   "metadata": {},
   "source": [
    "#### Dual-set (MSR2)"
   ]
  },
  {
   "cell_type": "code",
   "execution_count": null,
   "metadata": {},
   "outputs": [],
   "source": [
    "enc_dual = DualSetEncoder()\n",
    "dataset_train_dual = enc_dual.encode(df_train[\"smiles\"], df_train[\"activity\"], torch.float32)\n",
    "dataset_test_dual = enc_dual.encode(df_test[\"smiles\"], df_test[\"activity\"], torch.float32)\n",
    "\n",
    "# Get the dimensions of the encoding\n",
    "dims_dual = [\n",
    "    len(dataset_train_dual[0][0][0]),\n",
    "    len(dataset_train_dual[0][1][0])\n",
    "]"
   ]
  },
  {
   "cell_type": "markdown",
   "metadata": {},
   "source": [
    "#### Set-enhanced GNN (SR-GNN)"
   ]
  },
  {
   "cell_type": "code",
   "execution_count": null,
   "metadata": {},
   "outputs": [],
   "source": [
    "enc_graph = GraphEncoder()\n",
    "dataset_train_graph = enc_graph.encode(df_train[\"smiles\"], df_train[\"activity\"], label_dtype=torch.float32)\n",
    "dataset_test_graph = enc_graph.encode(df_test[\"smiles\"], df_test[\"activity\"], label_dtype=torch.float32)\n",
    "\n",
    "# Get the dimensions of the encoding\n",
    "dims_graph = [\n",
    "    dataset_train_graph.dataset[0].num_node_features,\n",
    "    dataset_train_graph.dataset[0].num_edge_features,\n",
    "]"
   ]
  },
  {
   "cell_type": "markdown",
   "metadata": {},
   "source": [
    "### Get torch data loaders"
   ]
  },
  {
   "cell_type": "markdown",
   "metadata": {},
   "source": [
    "#### Single-set (MSR1)"
   ]
  },
  {
   "cell_type": "code",
   "execution_count": null,
   "metadata": {},
   "outputs": [],
   "source": [
    "train_loader_single = DataLoader(\n",
    "    dataset_train_single,\n",
    "    batch_size=64,\n",
    "    shuffle=True,\n",
    "    num_workers=cpu_count() if cpu_count() < 8 else 8,\n",
    "    drop_last=True\n",
    ")\n",
    "\n",
    "test_loader_single = DataLoader(\n",
    "    dataset_test_single,\n",
    "    batch_size=64,\n",
    "    shuffle=True,\n",
    "    num_workers=cpu_count() if cpu_count() < 8 else 8,\n",
    "    drop_last=True\n",
    ")"
   ]
  },
  {
   "cell_type": "markdown",
   "metadata": {},
   "source": [
    "#### Dual-set (MSR2)"
   ]
  },
  {
   "cell_type": "code",
   "execution_count": null,
   "metadata": {},
   "outputs": [],
   "source": [
    "train_loader_dual = DataLoader(\n",
    "    dataset_train_dual,\n",
    "    batch_size=64,\n",
    "    shuffle=True,\n",
    "    num_workers=cpu_count() if cpu_count() < 8 else 8,\n",
    "    drop_last=True\n",
    ")\n",
    "\n",
    "test_loader_dual = DataLoader(\n",
    "    dataset_test_dual,\n",
    "    batch_size=64,\n",
    "    shuffle=True,\n",
    "    num_workers=cpu_count() if cpu_count() < 8 else 8,\n",
    "    drop_last=True\n",
    ")"
   ]
  },
  {
   "cell_type": "markdown",
   "metadata": {},
   "source": [
    "#### Set-enhanced GNN (SR-GNN)"
   ]
  },
  {
   "cell_type": "code",
   "execution_count": null,
   "metadata": {},
   "outputs": [],
   "source": [
    "train_loader_graph = dataset_train_graph\n",
    "test_loader_graph = dataset_test_graph"
   ]
  },
  {
   "cell_type": "markdown",
   "metadata": {},
   "source": [
    "## Train"
   ]
  },
  {
   "cell_type": "markdown",
   "metadata": {},
   "source": [
    "### Initialise the model"
   ]
  },
  {
   "cell_type": "markdown",
   "metadata": {},
   "source": [
    "#### Single-set (MSR1)"
   ]
  },
  {
   "cell_type": "code",
   "execution_count": null,
   "metadata": {},
   "outputs": [],
   "source": [
    "model_single = LightningSRRegressor([64], [8], dims_single)"
   ]
  },
  {
   "cell_type": "markdown",
   "metadata": {},
   "source": [
    "#### Dual-set (MSR2)"
   ]
  },
  {
   "cell_type": "code",
   "execution_count": null,
   "metadata": {},
   "outputs": [],
   "source": [
    "model_dual = LightningDualSRRegressor([64, 64], [8, 8], dims_dual)"
   ]
  },
  {
   "cell_type": "markdown",
   "metadata": {},
   "source": [
    "#### Set-enhanced GNN (SR-GNN)"
   ]
  },
  {
   "cell_type": "code",
   "execution_count": null,
   "metadata": {},
   "outputs": [],
   "source": [
    "model_graph = LightningSRGNNRegressor(\n",
    "    [128, 128], [64, 64],\n",
    "    n_hidden_channels=[128, 64],\n",
    "    n_in_channels=dims_graph[0], \n",
    "    n_edge_channels=dims_graph[1],\n",
    "    n_layers=8\n",
    ")"
   ]
  },
  {
   "cell_type": "markdown",
   "metadata": {},
   "source": [
    "### Initialise the trainer and fit"
   ]
  },
  {
   "cell_type": "markdown",
   "metadata": {},
   "source": [
    "#### Single-set (MSR1)"
   ]
  },
  {
   "cell_type": "code",
   "execution_count": null,
   "metadata": {},
   "outputs": [],
   "source": [
    "trainer_single = pl.Trainer(\n",
    "    max_epochs=250,\n",
    ")\n",
    "\n",
    "trainer_single.fit(model_dual, train_dataloaders=train_loader_single)\n",
    "trainer_single.test(dataloaders=test_loader_single)"
   ]
  },
  {
   "cell_type": "markdown",
   "metadata": {},
   "source": [
    "#### Dual-set (MSR2)"
   ]
  },
  {
   "cell_type": "code",
   "execution_count": null,
   "metadata": {},
   "outputs": [],
   "source": [
    "trainer_dual = pl.Trainer(\n",
    "    max_epochs=250,\n",
    ")\n",
    "\n",
    "trainer_dual.fit(model_dual, train_dataloaders=train_loader_dual)\n",
    "trainer_dual.test(dataloaders=test_loader_dual)"
   ]
  },
  {
   "cell_type": "markdown",
   "metadata": {},
   "source": [
    "#### Set-enhanced GNN (SR-GNN)"
   ]
  },
  {
   "cell_type": "code",
   "execution_count": null,
   "metadata": {},
   "outputs": [],
   "source": [
    "trainer_graph = pl.Trainer(\n",
    "    max_epochs=900,\n",
    ")\n",
    "\n",
    "trainer_graph.fit(model_graph, train_dataloaders=train_loader_graph)\n",
    "trainer_graph.test(dataloaders=test_loader_graph)"
   ]
  }
 ],
 "metadata": {
  "kernelspec": {
   "display_name": "Python 3",
   "language": "python",
   "name": "python3"
  },
  "language_info": {
   "codemirror_mode": {
    "name": "ipython",
    "version": 3
   },
   "file_extension": ".py",
   "mimetype": "text/x-python",
   "name": "python",
   "nbconvert_exporter": "python",
   "pygments_lexer": "ipython3",
   "version": "3.10.12"
  }
 },
 "nbformat": 4,
 "nbformat_minor": 2
}
