{
 "cells": [
  {
   "cell_type": "markdown",
   "metadata": {},
   "source": [
    "# Molecular set representation learning - Molecular property prediction"
   ]
  },
  {
   "cell_type": "markdown",
   "metadata": {},
   "source": [
    "## Imports"
   ]
  },
  {
   "cell_type": "code",
   "execution_count": null,
   "metadata": {},
   "outputs": [],
   "source": [
    "from multiprocessing import cpu_count\n",
    "\n",
    "import torch\n",
    "\n",
    "import pandas as pd\n",
    "import lightning.pytorch as pl\n",
    "\n",
    "from torch.utils.data import DataLoader\n",
    "\n",
    "from molsetrep.models import (\n",
    "    LightningSRRegressor,\n",
    "    LightningDualSRRegressor,\n",
    "    LightningSRGNNRegressor,\n",
    ")\n",
    "from molsetrep.encoders import SingleSetEncoder, DualSetEncoder, GraphEncoder"
   ]
  },
  {
   "cell_type": "markdown",
   "metadata": {},
   "source": [
    "## Prepare the data"
   ]
  },
  {
   "cell_type": "markdown",
   "metadata": {},
   "source": [
    "### Load from file"
   ]
  },
  {
   "cell_type": "code",
   "execution_count": 2,
   "metadata": {},
   "outputs": [],
   "source": [
    "df_train = pd.read_csv(\"../data/adme/ADME_MDR1_ER_train.csv\")\n",
    "df_test = pd.read_csv(\"../data/adme/ADME_MDR1_ER_test.csv\")"
   ]
  },
  {
   "cell_type": "markdown",
   "metadata": {},
   "source": [
    "### Encode the data"
   ]
  },
  {
   "cell_type": "markdown",
   "metadata": {},
   "source": [
    "#### Single-set (MSR1)"
   ]
  },
  {
   "cell_type": "code",
   "execution_count": 3,
   "metadata": {},
   "outputs": [],
   "source": [
    "enc_single = SingleSetEncoder()\n",
    "dataset_train_single = enc_single.encode(df_train[\"smiles\"], df_train[\"activity\"], torch.float32)\n",
    "dataset_test_single = enc_single.encode(df_test[\"smiles\"], df_test[\"activity\"], torch.float32)\n",
    "\n",
    "# Get the dimensions of the encoding\n",
    "dims_single = [dataset_train_single[0][0].shape[0]]"
   ]
  },
  {
   "cell_type": "markdown",
   "metadata": {},
   "source": [
    "#### Dual-set (MSR2)"
   ]
  },
  {
   "cell_type": "code",
   "execution_count": 4,
   "metadata": {},
   "outputs": [],
   "source": [
    "enc_dual = DualSetEncoder()\n",
    "dataset_train_dual = enc_dual.encode(df_train[\"smiles\"], df_train[\"activity\"], torch.float32)\n",
    "dataset_test_dual = enc_dual.encode(df_test[\"smiles\"], df_test[\"activity\"], torch.float32)\n",
    "\n",
    "# Get the dimensions of the encoding\n",
    "dims_dual = [\n",
    "    len(dataset_train_dual[0][0][0]),\n",
    "    len(dataset_train_dual[0][1][0])\n",
    "]"
   ]
  },
  {
   "cell_type": "markdown",
   "metadata": {},
   "source": [
    "#### Set-enhanced GNN (SR-GNN)"
   ]
  },
  {
   "cell_type": "code",
   "execution_count": 5,
   "metadata": {},
   "outputs": [
    {
     "name": "stderr",
     "output_type": "stream",
     "text": [
      "100%|██████████| 2113/2113 [00:06<00:00, 312.08it/s]\n",
      "100%|██████████| 529/529 [00:01<00:00, 295.98it/s]\n"
     ]
    }
   ],
   "source": [
    "enc_graph = GraphEncoder()\n",
    "dataset_train_graph = enc_graph.encode(df_train[\"smiles\"], df_train[\"activity\"], label_dtype=torch.float32)\n",
    "dataset_test_graph = enc_graph.encode(df_test[\"smiles\"], df_test[\"activity\"], label_dtype=torch.float32)\n",
    "\n",
    "# Get the dimensions of the encoding\n",
    "dims_graph = [\n",
    "    dataset_train_graph.dataset[0].num_node_features,\n",
    "    dataset_train_graph.dataset[0].num_edge_features,\n",
    "]"
   ]
  },
  {
   "cell_type": "markdown",
   "metadata": {},
   "source": [
    "### Get torch data loaders"
   ]
  },
  {
   "cell_type": "markdown",
   "metadata": {},
   "source": [
    "#### Single-set (MSR1)"
   ]
  },
  {
   "cell_type": "code",
   "execution_count": null,
   "metadata": {},
   "outputs": [],
   "source": [
    "train_loader_single = DataLoader(\n",
    "    dataset_train_single,\n",
    "    batch_size=64,\n",
    "    shuffle=True,\n",
    "    num_workers=cpu_count() if cpu_count() < 8 else 8,\n",
    "    drop_last=True\n",
    ")\n",
    "\n",
    "test_loader_single = DataLoader(\n",
    "    dataset_test_single,\n",
    "    batch_size=64,\n",
    "    shuffle=True,\n",
    "    num_workers=cpu_count() if cpu_count() < 8 else 8,\n",
    "    drop_last=True\n",
    ")"
   ]
  },
  {
   "cell_type": "markdown",
   "metadata": {},
   "source": [
    "#### Dual-set (MSR2)"
   ]
  },
  {
   "cell_type": "code",
   "execution_count": null,
   "metadata": {},
   "outputs": [],
   "source": [
    "train_loader_dual = DataLoader(\n",
    "    dataset_train_dual,\n",
    "    batch_size=64,\n",
    "    shuffle=True,\n",
    "    num_workers=cpu_count() if cpu_count() < 8 else 8,\n",
    "    drop_last=True\n",
    ")\n",
    "\n",
    "test_loader_dual = DataLoader(\n",
    "    dataset_test_dual,\n",
    "    batch_size=64,\n",
    "    shuffle=True,\n",
    "    num_workers=cpu_count() if cpu_count() < 8 else 8,\n",
    "    drop_last=True\n",
    ")"
   ]
  },
  {
   "cell_type": "markdown",
   "metadata": {},
   "source": [
    "#### Set-enhanced GNN (SR-GNN)"
   ]
  },
  {
   "cell_type": "code",
   "execution_count": 6,
   "metadata": {},
   "outputs": [],
   "source": [
    "train_loader_graph = dataset_train_graph\n",
    "test_loader_graph = dataset_test_graph"
   ]
  },
  {
   "cell_type": "markdown",
   "metadata": {},
   "source": [
    "## Train"
   ]
  },
  {
   "cell_type": "markdown",
   "metadata": {},
   "source": [
    "### Initialise the model"
   ]
  },
  {
   "cell_type": "markdown",
   "metadata": {},
   "source": [
    "#### Single-set (MSR1)"
   ]
  },
  {
   "cell_type": "code",
   "execution_count": null,
   "metadata": {},
   "outputs": [],
   "source": [
    "model_single = LightningSRRegressor([64], [8], dims_single)"
   ]
  },
  {
   "cell_type": "markdown",
   "metadata": {},
   "source": [
    "#### Dual-set (MSR2)"
   ]
  },
  {
   "cell_type": "code",
   "execution_count": null,
   "metadata": {},
   "outputs": [],
   "source": [
    "model_dual = LightningDualSRRegressor([64, 64], [8, 8], dims_dual)"
   ]
  },
  {
   "cell_type": "markdown",
   "metadata": {},
   "source": [
    "#### Set-enhanced GNN (SR-GNN)"
   ]
  },
  {
   "cell_type": "code",
   "execution_count": 7,
   "metadata": {},
   "outputs": [],
   "source": [
    "model_graph = LightningSRGNNRegressor(\n",
    "    [128, 128], [64, 64],\n",
    "    n_hidden_channels=[128, 64],\n",
    "    n_in_channels=dims_graph[0], \n",
    "    n_edge_channels=dims_graph[1],\n",
    "    n_layers=8\n",
    ")"
   ]
  },
  {
   "cell_type": "markdown",
   "metadata": {},
   "source": [
    "### Initialise the trainer and fit"
   ]
  },
  {
   "cell_type": "markdown",
   "metadata": {},
   "source": [
    "#### Single-set (MSR1)"
   ]
  },
  {
   "cell_type": "code",
   "execution_count": null,
   "metadata": {},
   "outputs": [],
   "source": [
    "trainer_single = pl.Trainer(\n",
    "    max_epochs=250,\n",
    ")\n",
    "\n",
    "trainer_single.fit(model_dual, train_dataloaders=train_loader_single)\n",
    "trainer_single.test(dataloaders=test_loader_single)"
   ]
  },
  {
   "cell_type": "markdown",
   "metadata": {},
   "source": [
    "#### Dual-set (MSR2)"
   ]
  },
  {
   "cell_type": "code",
   "execution_count": null,
   "metadata": {},
   "outputs": [],
   "source": [
    "trainer_dual = pl.Trainer(\n",
    "    max_epochs=250,\n",
    ")\n",
    "\n",
    "trainer_dual.fit(model_dual, train_dataloaders=train_loader_dual)\n",
    "trainer_dual.test(dataloaders=test_loader_dual)"
   ]
  },
  {
   "cell_type": "markdown",
   "metadata": {},
   "source": [
    "#### Set-enhanced GNN (SR-GNN)"
   ]
  },
  {
   "cell_type": "code",
   "execution_count": 8,
   "metadata": {},
   "outputs": [
    {
     "name": "stderr",
     "output_type": "stream",
     "text": [
      "GPU available: True (cuda), used: True\n",
      "TPU available: False, using: 0 TPU cores\n",
      "IPU available: False, using: 0 IPUs\n",
      "HPU available: False, using: 0 HPUs\n",
      "/home/daenu/micromamba/envs/msr-test-2/lib/python3.10/site-packages/lightning/pytorch/trainer/connectors/logger_connector/logger_connector.py:67: UserWarning: Starting from v1.9.0, `tensorboardX` has been removed as a dependency of the `lightning.pytorch` package, due to potential conflicts with other packages in the ML ecosystem. For this reason, `logger=True` will use `CSVLogger` as the default logger, unless the `tensorboard` or `tensorboardX` packages are found. Please `pip install lightning[extra]` or one of them to enable TensorBoard support by default\n",
      "  warning_cache.warn(\n",
      "/home/daenu/micromamba/envs/msr-test-2/lib/python3.10/site-packages/lightning/pytorch/trainer/configuration_validator.py:70: PossibleUserWarning: You defined a `validation_step` but have no `val_dataloader`. Skipping val loop.\n",
      "  rank_zero_warn(\n",
      "You are using a CUDA device ('NVIDIA GeForce RTX 4070 Ti') that has Tensor Cores. To properly utilize them, you should set `torch.set_float32_matmul_precision('medium' | 'high')` which will trade-off precision for performance. For more details, read https://pytorch.org/docs/stable/generated/torch.set_float32_matmul_precision.html#torch.set_float32_matmul_precision\n",
      "LOCAL_RANK: 0 - CUDA_VISIBLE_DEVICES: [0]\n",
      "\n",
      "   | Name          | Type              | Params\n",
      "-----------------------------------------------------\n",
      "0  | gnn_regressor | SRGNNRegressor    | 1.5 M \n",
      "1  | train_r2      | R2Score           | 0     \n",
      "2  | train_pearson | PearsonCorrCoef   | 0     \n",
      "3  | train_rmse    | MeanSquaredError  | 0     \n",
      "4  | train_mae     | MeanAbsoluteError | 0     \n",
      "5  | val_r2        | R2Score           | 0     \n",
      "6  | val_pearson   | PearsonCorrCoef   | 0     \n",
      "7  | val_rmse      | MeanSquaredError  | 0     \n",
      "8  | val_mae       | MeanAbsoluteError | 0     \n",
      "9  | test_r2       | R2Score           | 0     \n",
      "10 | test_pearson  | PearsonCorrCoef   | 0     \n",
      "11 | test_rmse     | MeanSquaredError  | 0     \n",
      "12 | test_mae      | MeanAbsoluteError | 0     \n",
      "-----------------------------------------------------\n",
      "1.5 M     Trainable params\n",
      "0         Non-trainable params\n",
      "1.5 M     Total params\n",
      "5.942     Total estimated model params size (MB)\n",
      "/home/daenu/micromamba/envs/msr-test-2/lib/python3.10/site-packages/lightning/pytorch/loops/fit_loop.py:280: PossibleUserWarning: The number of training batches (33) is smaller than the logging interval Trainer(log_every_n_steps=50). Set a lower value for log_every_n_steps if you want to see logs for the training epoch.\n",
      "  rank_zero_warn(\n"
     ]
    },
    {
     "name": "stdout",
     "output_type": "stream",
     "text": [
      "Epoch 899: 100%|██████████| 33/33 [00:00<00:00, 68.16it/s, v_num=0]"
     ]
    },
    {
     "name": "stderr",
     "output_type": "stream",
     "text": [
      "`Trainer.fit` stopped: `max_epochs=900` reached.\n"
     ]
    },
    {
     "name": "stdout",
     "output_type": "stream",
     "text": [
      "Epoch 899: 100%|██████████| 33/33 [00:00<00:00, 63.03it/s, v_num=0]\n"
     ]
    },
    {
     "name": "stderr",
     "output_type": "stream",
     "text": [
      "/home/daenu/micromamba/envs/msr-test-2/lib/python3.10/site-packages/lightning/pytorch/trainer/connectors/checkpoint_connector.py:148: UserWarning: `.test(ckpt_path=None)` was called without a model. The best model of the previous `fit` call will be used. You can pass `.test(ckpt_path='best')` to use the best model or `.test(ckpt_path='last')` to use the last model. If you pass a value, this warning will be silenced.\n",
      "  rank_zero_warn(\n",
      "Restoring states from the checkpoint path at /home/daenu/Code/molsetrep/example/lightning_logs/version_0/checkpoints/epoch=899-step=29700.ckpt\n",
      "LOCAL_RANK: 0 - CUDA_VISIBLE_DEVICES: [0]\n",
      "Loaded model weights from the checkpoint at /home/daenu/Code/molsetrep/example/lightning_logs/version_0/checkpoints/epoch=899-step=29700.ckpt\n"
     ]
    },
    {
     "name": "stdout",
     "output_type": "stream",
     "text": [
      "Testing DataLoader 0: 100%|██████████| 8/8 [00:00<00:00, 166.48it/s]\n"
     ]
    },
    {
     "data": {
      "text/html": [
       "<pre style=\"white-space:pre;overflow-x:auto;line-height:normal;font-family:Menlo,'DejaVu Sans Mono',consolas,'Courier New',monospace\">┏━━━━━━━━━━━━━━━━━━━━━━━━━━━┳━━━━━━━━━━━━━━━━━━━━━━━━━━━┓\n",
       "┃<span style=\"font-weight: bold\">        Test metric        </span>┃<span style=\"font-weight: bold\">       DataLoader 0        </span>┃\n",
       "┡━━━━━━━━━━━━━━━━━━━━━━━━━━━╇━━━━━━━━━━━━━━━━━━━━━━━━━━━┩\n",
       "│<span style=\"color: #008080; text-decoration-color: #008080\">         test/loss         </span>│<span style=\"color: #800080; text-decoration-color: #800080\">    0.2152581512928009     </span>│\n",
       "│<span style=\"color: #008080; text-decoration-color: #008080\">         test/mae          </span>│<span style=\"color: #800080; text-decoration-color: #800080\">    0.34112948179244995    </span>│\n",
       "│<span style=\"color: #008080; text-decoration-color: #008080\">       test/pearson        </span>│<span style=\"color: #800080; text-decoration-color: #800080\">    0.7639975547790527     </span>│\n",
       "│<span style=\"color: #008080; text-decoration-color: #008080\">          test/r2          </span>│<span style=\"color: #800080; text-decoration-color: #800080\">    0.5697703957557678     </span>│\n",
       "│<span style=\"color: #008080; text-decoration-color: #008080\">         test/rmse         </span>│<span style=\"color: #800080; text-decoration-color: #800080\">    0.4639592170715332     </span>│\n",
       "└───────────────────────────┴───────────────────────────┘\n",
       "</pre>\n"
      ],
      "text/plain": [
       "┏━━━━━━━━━━━━━━━━━━━━━━━━━━━┳━━━━━━━━━━━━━━━━━━━━━━━━━━━┓\n",
       "┃\u001b[1m \u001b[0m\u001b[1m       Test metric       \u001b[0m\u001b[1m \u001b[0m┃\u001b[1m \u001b[0m\u001b[1m      DataLoader 0       \u001b[0m\u001b[1m \u001b[0m┃\n",
       "┡━━━━━━━━━━━━━━━━━━━━━━━━━━━╇━━━━━━━━━━━━━━━━━━━━━━━━━━━┩\n",
       "│\u001b[36m \u001b[0m\u001b[36m        test/loss        \u001b[0m\u001b[36m \u001b[0m│\u001b[35m \u001b[0m\u001b[35m   0.2152581512928009    \u001b[0m\u001b[35m \u001b[0m│\n",
       "│\u001b[36m \u001b[0m\u001b[36m        test/mae         \u001b[0m\u001b[36m \u001b[0m│\u001b[35m \u001b[0m\u001b[35m   0.34112948179244995   \u001b[0m\u001b[35m \u001b[0m│\n",
       "│\u001b[36m \u001b[0m\u001b[36m      test/pearson       \u001b[0m\u001b[36m \u001b[0m│\u001b[35m \u001b[0m\u001b[35m   0.7639975547790527    \u001b[0m\u001b[35m \u001b[0m│\n",
       "│\u001b[36m \u001b[0m\u001b[36m         test/r2         \u001b[0m\u001b[36m \u001b[0m│\u001b[35m \u001b[0m\u001b[35m   0.5697703957557678    \u001b[0m\u001b[35m \u001b[0m│\n",
       "│\u001b[36m \u001b[0m\u001b[36m        test/rmse        \u001b[0m\u001b[36m \u001b[0m│\u001b[35m \u001b[0m\u001b[35m   0.4639592170715332    \u001b[0m\u001b[35m \u001b[0m│\n",
       "└───────────────────────────┴───────────────────────────┘\n"
      ]
     },
     "metadata": {},
     "output_type": "display_data"
    },
    {
     "data": {
      "text/plain": [
       "[{'test/loss': 0.2152581512928009,\n",
       "  'test/r2': 0.5697703957557678,\n",
       "  'test/pearson': 0.7639975547790527,\n",
       "  'test/rmse': 0.4639592170715332,\n",
       "  'test/mae': 0.34112948179244995}]"
      ]
     },
     "execution_count": 8,
     "metadata": {},
     "output_type": "execute_result"
    }
   ],
   "source": [
    "trainer_graph = pl.Trainer(\n",
    "    max_epochs=900,\n",
    ")\n",
    "\n",
    "trainer_graph.fit(model_graph, train_dataloaders=train_loader_graph)\n",
    "trainer_graph.test(dataloaders=test_loader_graph)"
   ]
  }
 ],
 "metadata": {
  "kernelspec": {
   "display_name": "Python 3",
   "language": "python",
   "name": "python3"
  },
  "language_info": {
   "codemirror_mode": {
    "name": "ipython",
    "version": 3
   },
   "file_extension": ".py",
   "mimetype": "text/x-python",
   "name": "python",
   "nbconvert_exporter": "python",
   "pygments_lexer": "ipython3",
   "version": "3.10.13"
  }
 },
 "nbformat": 4,
 "nbformat_minor": 2
}
