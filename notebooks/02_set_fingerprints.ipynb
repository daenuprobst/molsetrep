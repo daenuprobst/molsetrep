{
 "cells": [
  {
   "cell_type": "code",
   "execution_count": 1,
   "metadata": {},
   "outputs": [
    {
     "name": "stderr",
     "output_type": "stream",
     "text": [
      "Skipped loading some Tensorflow models, missing a dependency. No module named 'tensorflow'\n",
      "Skipped loading modules with pytorch-lightning dependency, missing a dependency. No module named 'pytorch_lightning'\n",
      "Skipped loading some Jax models, missing a dependency. No module named 'jax'\n"
     ]
    }
   ],
   "source": [
    "import torch\n",
    "import numpy as np\n",
    "\n",
    "from torch.utils.data import DataLoader\n",
    "from torcheval.metrics import BinaryAccuracy, BinaryAUROC\n",
    "from torchmetrics.regression import R2Score, MeanSquaredError, MeanAbsoluteError\n",
    "\n",
    "from molsetrep.utils.torch_trainer import TorchTrainer\n",
    "from molsetrep.utils.datasets import molnet_loader\n",
    "from molsetrep.utils.converters import molnet_to_pyg\n",
    "from molsetrep.utils.root_mean_squared_error import RootMeanSquaredError\n",
    "from molsetrep.utils.imbalanced_sampler import ImbalancedSampler\n",
    "from molsetrep.models import SetRepClassifier, SetRepRegressor\n",
    "from molsetrep.encoders import SECMQNFPEncoder, SECFPEncoder, Mol2VecEncoder, Mol2SetEncoder\n",
    "\n",
    "from sklearn.preprocessing import StandardScaler\n"
   ]
  },
  {
   "attachments": {},
   "cell_type": "markdown",
   "metadata": {},
   "source": [
    "# SECMQNFP"
   ]
  },
  {
   "attachments": {},
   "cell_type": "markdown",
   "metadata": {},
   "source": [
    "## Classification"
   ]
  },
  {
   "cell_type": "code",
   "execution_count": null,
   "metadata": {},
   "outputs": [],
   "source": [
    "train, valid, test = molnet_loader(\"bbbp\", splitter=\"scaffold\", reload=False)\n",
    "enc = SECMQNFPEncoder()\n",
    "\n",
    "train_dataset, valid_dataset, test_dataset = enc.encode(\n",
    "    (train.ids, valid.ids, test.ids), \n",
    "    ([y[0] for y in train.y], [y[0] for y in valid.y], [y[0] for y in test.y]), \n",
    "    label_dtype=torch.long, standardize=False\n",
    ")\n",
    "\n",
    "train_loader = DataLoader(train_dataset, batch_size=64, sampler=ImbalancedSampler(train_dataset))\n",
    "valid_loader = DataLoader(valid_dataset, batch_size=64)\n",
    "test_loader = DataLoader(test_dataset, batch_size=64)"
   ]
  },
  {
   "cell_type": "code",
   "execution_count": null,
   "metadata": {},
   "outputs": [],
   "source": [
    "d = 42\n",
    "\n",
    "results = []\n",
    "for _ in range(5):\n",
    "    model = SetRepClassifier(8, 2, d, 2)\n",
    "\n",
    "    optimizer = torch.optim.Adam(model.parameters(), lr=0.001)\n",
    "    scheduler = torch.optim.lr_scheduler.ExponentialLR(optimizer, gamma=0.9)\n",
    "    criterion = torch.nn.NLLLoss()\n",
    "    \n",
    "    trainer = TorchTrainer(\n",
    "        model,\n",
    "        optimizer,\n",
    "        criterion,\n",
    "        100,\n",
    "        [BinaryAccuracy(), BinaryAUROC()],\n",
    "        [BinaryAccuracy(), BinaryAUROC()],\n",
    "        [BinaryAccuracy(), BinaryAUROC()],\n",
    "        # scheduler=scheduler,\n",
    "        monitor_metric=1,\n",
    "        monitor_lower_is_better=False,\n",
    "        silent=True\n",
    "    )\n",
    "\n",
    "    trainer.train(train_loader, valid_loader)\n",
    "    print(trainer.test(test_loader))\n",
    "\n",
    "# [{'best_epoch': 60, 'loss': 1.8466728925704956, 'BinaryAccuracy': 0.6078431606292725, 'BinaryAUROC': 0.6049715772232392}]\n",
    "# [{'best_epoch': 60, 'loss': 1.361539602279663, 'BinaryAccuracy': 0.6078431606292725, 'BinaryAUROC': 0.6015993833702669}]\n",
    "# [{'best_epoch': 60, 'loss': 1.2250711917877197, 'BinaryAccuracy': 0.5833333134651184, 'BinaryAUROC': 0.5791983813469506}]\n",
    "# [{'best_epoch': 60, 'loss': 1.1215720176696777, 'BinaryAccuracy': 0.5735294222831726, 'BinaryAUROC': 0.5664803931014548}]\n",
    "# [{'best_epoch': 55, 'loss': 1.2314069271087646, 'BinaryAccuracy': 0.593137264251709, 'BinaryAUROC': 0.5914346276134502}]"
   ]
  },
  {
   "attachments": {},
   "cell_type": "markdown",
   "metadata": {},
   "source": [
    "## Regression"
   ]
  },
  {
   "cell_type": "code",
   "execution_count": 4,
   "metadata": {},
   "outputs": [],
   "source": [
    "train, valid, test = molnet_loader(\"lipo\")\n",
    "enc = SECMQNFPEncoder()\n",
    "\n",
    "train_dataset, valid_dataset, test_dataset = enc.encode(\n",
    "    (train.ids, valid.ids, test.ids), \n",
    "    ([y[0] for y in train.y], [y[0] for y in valid.y], [y[0] for y in test.y]), \n",
    "    label_dtype=torch.float, standardize=False\n",
    ")\n",
    "\n",
    "train_loader = DataLoader(train_dataset, batch_size=64)\n",
    "valid_loader = DataLoader(valid_dataset, batch_size=64)\n",
    "test_loader = DataLoader(test_dataset, batch_size=64)"
   ]
  },
  {
   "cell_type": "code",
   "execution_count": null,
   "metadata": {},
   "outputs": [],
   "source": [
    "d = 42\n",
    "model = SetRepRegressor(8, 32, d)\n",
    "\n",
    "optimizer = torch.optim.Adam(model.parameters(), lr=0.01)\n",
    "scheduler = torch.optim.lr_scheduler.ExponentialLR(optimizer, gamma=0.95)\n",
    "criterion = torch.nn.MSELoss()\n",
    "\n",
    "trainer = TorchTrainer(\n",
    "    model,\n",
    "    optimizer,\n",
    "    criterion,\n",
    "    200,\n",
    "    [R2Score(), RootMeanSquaredError()],\n",
    "    [R2Score(), RootMeanSquaredError()],\n",
    "    [R2Score(), RootMeanSquaredError()],\n",
    "    scheduler=scheduler,\n",
    "    monitor_metric=1,\n",
    "    monitor_lower_is_better=True\n",
    ")\n",
    "\n",
    "trainer.train(train_loader, valid_loader)\n",
    "trainer.test(test_loader)"
   ]
  },
  {
   "attachments": {},
   "cell_type": "markdown",
   "metadata": {},
   "source": [
    "# SECFP"
   ]
  },
  {
   "attachments": {},
   "cell_type": "markdown",
   "metadata": {},
   "source": [
    "## Classification"
   ]
  },
  {
   "cell_type": "code",
   "execution_count": 4,
   "metadata": {},
   "outputs": [
    {
     "name": "stderr",
     "output_type": "stream",
     "text": [
      "                                                                                        \r"
     ]
    }
   ],
   "source": [
    "train, valid, test = molnet_loader(\"bace_classification\")\n",
    "graph_embedder = SECFPEncoder.fit(train.ids)\n",
    "\n",
    "enc = SECFPEncoder()\n",
    "\n",
    "train_dataset = enc.encode(train.ids, [y[0] for y in train.y], label_dtype=torch.long, graph_embedder=graph_embedder, pretrained_graph_embedder=True)\n",
    "valid_dataset = enc.encode(valid.ids, [y[0] for y in valid.y], label_dtype=torch.long, graph_embedder=graph_embedder, pretrained_graph_embedder=True)\n",
    "test_dataset = enc.encode(test.ids, [y[0] for y in test.y], label_dtype=torch.long, graph_embedder=graph_embedder, pretrained_graph_embedder=True)\n",
    "\n",
    "train_loader = DataLoader(train_dataset, batch_size=64, sampler=ImbalancedSampler(train_dataset))\n",
    "valid_loader = DataLoader(valid_dataset, batch_size=64)\n",
    "test_loader = DataLoader(test_dataset, batch_size=64)"
   ]
  },
  {
   "cell_type": "code",
   "execution_count": null,
   "metadata": {},
   "outputs": [],
   "source": [
    "d = 500\n",
    "model = SetRepClassifier(2, 8, d, 2)\n",
    "\n",
    "optimizer = torch.optim.Adam(model.parameters(), lr=0.00001)\n",
    "scheduler = torch.optim.lr_scheduler.ExponentialLR(optimizer, gamma=0.9)\n",
    "criterion = torch.nn.NLLLoss()\n",
    "\n",
    "trainer = TorchTrainer(\n",
    "    model,\n",
    "    optimizer,\n",
    "    criterion,\n",
    "    60,\n",
    "    [BinaryAccuracy(), BinaryAUROC()],\n",
    "    [BinaryAccuracy(), BinaryAUROC()],\n",
    "    [BinaryAccuracy(), BinaryAUROC()],\n",
    "    # scheduler=scheduler,\n",
    "    monitor_metric=1,\n",
    "    monitor_lower_is_better=False\n",
    ")\n",
    "\n",
    "trainer.train(train_loader, valid_loader)\n",
    "trainer.test(test_loader)"
   ]
  },
  {
   "attachments": {},
   "cell_type": "markdown",
   "metadata": {},
   "source": [
    "## Regression"
   ]
  },
  {
   "cell_type": "code",
   "execution_count": null,
   "metadata": {},
   "outputs": [],
   "source": []
  },
  {
   "attachments": {},
   "cell_type": "markdown",
   "metadata": {},
   "source": [
    "# Mol2Vec"
   ]
  },
  {
   "attachments": {},
   "cell_type": "markdown",
   "metadata": {},
   "source": [
    "## Classification"
   ]
  },
  {
   "cell_type": "code",
   "execution_count": 2,
   "metadata": {},
   "outputs": [],
   "source": [
    "train, valid, test = molnet_loader(\"bbbp\")\n",
    "enc = Mol2SetEncoder()\n",
    "\n",
    "train_dataset = enc.encode(train.ids, [y[0] for y in train.y], label_dtype=torch.long)\n",
    "valid_dataset = enc.encode(valid.ids, [y[0] for y in valid.y], label_dtype=torch.long)\n",
    "test_dataset = enc.encode(test.ids, [y[0] for y in test.y], label_dtype=torch.long)\n",
    "\n",
    "train_loader = DataLoader(train_dataset, batch_size=128, sampler=ImbalancedSampler(train_dataset))\n",
    "valid_loader = DataLoader(valid_dataset, batch_size=128)\n",
    "test_loader = DataLoader(test_dataset, batch_size=128)"
   ]
  },
  {
   "cell_type": "code",
   "execution_count": 4,
   "metadata": {},
   "outputs": [
    {
     "name": "stdout",
     "output_type": "stream",
     "text": [
      "*  Epoch 1: Train loss: 0.706 (BinaryAccuracy: 0.494, BinaryAUROC: 0.5)  Valid loss: 0.685 (BinaryAccuracy: 0.451, BinaryAUROC: 0.5)\n",
      "|  Epoch 2: Train loss: 0.711 (BinaryAccuracy: 0.479, BinaryAUROC: 0.5)  Valid loss: 0.685 (BinaryAccuracy: 0.451, BinaryAUROC: 0.5)\n",
      "|  Epoch 3: Train loss: 0.706 (BinaryAccuracy: 0.491, BinaryAUROC: 0.5)  Valid loss: 0.685 (BinaryAccuracy: 0.451, BinaryAUROC: 0.5)\n",
      "|  Epoch 4: Train loss: 0.704 (BinaryAccuracy: 0.498, BinaryAUROC: 0.5)  Valid loss: 0.685 (BinaryAccuracy: 0.451, BinaryAUROC: 0.5)\n",
      "|  Epoch 5: Train loss: 0.698 (BinaryAccuracy: 0.516, BinaryAUROC: 0.5)  Valid loss: 0.685 (BinaryAccuracy: 0.451, BinaryAUROC: 0.5)\n",
      "|  Epoch 6: Train loss: 0.705 (BinaryAccuracy: 0.494, BinaryAUROC: 0.5)  Valid loss: 0.685 (BinaryAccuracy: 0.451, BinaryAUROC: 0.5)\n",
      "|  Epoch 7: Train loss: 0.705 (BinaryAccuracy: 0.49, BinaryAUROC: 0.5)  Valid loss: 0.685 (BinaryAccuracy: 0.451, BinaryAUROC: 0.5)\n",
      "|  Epoch 8: Train loss: 0.697 (BinaryAccuracy: 0.519, BinaryAUROC: 0.5)  Valid loss: 0.685 (BinaryAccuracy: 0.451, BinaryAUROC: 0.5)\n",
      "|  Epoch 9: Train loss: 0.7 (BinaryAccuracy: 0.507, BinaryAUROC: 0.5)  Valid loss: 0.685 (BinaryAccuracy: 0.451, BinaryAUROC: 0.5)\n",
      "|  Epoch 10: Train loss: 0.697 (BinaryAccuracy: 0.519, BinaryAUROC: 0.5)  Valid loss: 0.685 (BinaryAccuracy: 0.451, BinaryAUROC: 0.5)\n",
      "|  Epoch 11: Train loss: 0.702 (BinaryAccuracy: 0.502, BinaryAUROC: 0.5)  Valid loss: 0.685 (BinaryAccuracy: 0.451, BinaryAUROC: 0.5)\n",
      "|  Epoch 12: Train loss: 0.702 (BinaryAccuracy: 0.5, BinaryAUROC: 0.5)  Valid loss: 0.685 (BinaryAccuracy: 0.451, BinaryAUROC: 0.5)\n",
      "|  Epoch 13: Train loss: 0.7 (BinaryAccuracy: 0.507, BinaryAUROC: 0.5)  Valid loss: 0.686 (BinaryAccuracy: 0.451, BinaryAUROC: 0.5)\n",
      "|  Epoch 14: Train loss: 0.702 (BinaryAccuracy: 0.497, BinaryAUROC: 0.5)  Valid loss: 0.686 (BinaryAccuracy: 0.451, BinaryAUROC: 0.5)\n",
      "|  Epoch 15: Train loss: 0.701 (BinaryAccuracy: 0.502, BinaryAUROC: 0.5)  Valid loss: 0.685 (BinaryAccuracy: 0.451, BinaryAUROC: 0.5)\n",
      "|  Epoch 16: Train loss: 0.702 (BinaryAccuracy: 0.494, BinaryAUROC: 0.5)  Valid loss: 0.685 (BinaryAccuracy: 0.451, BinaryAUROC: 0.5)\n",
      "|  Epoch 17: Train loss: 0.701 (BinaryAccuracy: 0.498, BinaryAUROC: 0.5)  Valid loss: 0.685 (BinaryAccuracy: 0.451, BinaryAUROC: 0.5)\n",
      "|  Epoch 18: Train loss: 0.7 (BinaryAccuracy: 0.502, BinaryAUROC: 0.5)  Valid loss: 0.685 (BinaryAccuracy: 0.451, BinaryAUROC: 0.5)\n",
      "|  Epoch 19: Train loss: 0.702 (BinaryAccuracy: 0.493, BinaryAUROC: 0.5)  Valid loss: 0.685 (BinaryAccuracy: 0.451, BinaryAUROC: 0.5)\n",
      "|  Epoch 20: Train loss: 0.704 (BinaryAccuracy: 0.481, BinaryAUROC: 0.5)  Valid loss: 0.686 (BinaryAccuracy: 0.451, BinaryAUROC: 0.5)\n",
      "|  Epoch 21: Train loss: 0.696 (BinaryAccuracy: 0.515, BinaryAUROC: 0.5)  Valid loss: 0.687 (BinaryAccuracy: 0.451, BinaryAUROC: 0.5)\n",
      "|  Epoch 22: Train loss: 0.7 (BinaryAccuracy: 0.498, BinaryAUROC: 0.5)  Valid loss: 0.686 (BinaryAccuracy: 0.451, BinaryAUROC: 0.5)\n",
      "|  Epoch 23: Train loss: 0.699 (BinaryAccuracy: 0.502, BinaryAUROC: 0.5)  Valid loss: 0.685 (BinaryAccuracy: 0.451, BinaryAUROC: 0.5)\n",
      "|  Epoch 24: Train loss: 0.697 (BinaryAccuracy: 0.508, BinaryAUROC: 0.5)  Valid loss: 0.686 (BinaryAccuracy: 0.451, BinaryAUROC: 0.5)\n",
      "|  Epoch 25: Train loss: 0.7 (BinaryAccuracy: 0.497, BinaryAUROC: 0.5)  Valid loss: 0.686 (BinaryAccuracy: 0.451, BinaryAUROC: 0.5)\n",
      "|  Epoch 26: Train loss: 0.696 (BinaryAccuracy: 0.514, BinaryAUROC: 0.5)  Valid loss: 0.686 (BinaryAccuracy: 0.451, BinaryAUROC: 0.5)\n",
      "|  Epoch 27: Train loss: 0.7 (BinaryAccuracy: 0.495, BinaryAUROC: 0.5)  Valid loss: 0.685 (BinaryAccuracy: 0.451, BinaryAUROC: 0.5)\n",
      "|  Epoch 28: Train loss: 0.697 (BinaryAccuracy: 0.506, BinaryAUROC: 0.5)  Valid loss: 0.685 (BinaryAccuracy: 0.451, BinaryAUROC: 0.5)\n",
      "|  Epoch 29: Train loss: 0.699 (BinaryAccuracy: 0.494, BinaryAUROC: 0.5)  Valid loss: 0.686 (BinaryAccuracy: 0.451, BinaryAUROC: 0.5)\n",
      "|  Epoch 30: Train loss: 0.693 (BinaryAccuracy: 0.522, BinaryAUROC: 0.5)  Valid loss: 0.686 (BinaryAccuracy: 0.451, BinaryAUROC: 0.5)\n",
      "|  Epoch 31: Train loss: 0.698 (BinaryAccuracy: 0.496, BinaryAUROC: 0.5)  Valid loss: 0.686 (BinaryAccuracy: 0.451, BinaryAUROC: 0.5)\n",
      "|  Epoch 32: Train loss: 0.696 (BinaryAccuracy: 0.506, BinaryAUROC: 0.5)  Valid loss: 0.686 (BinaryAccuracy: 0.451, BinaryAUROC: 0.5)\n",
      "|  Epoch 33: Train loss: 0.696 (BinaryAccuracy: 0.511, BinaryAUROC: 0.5)  Valid loss: 0.686 (BinaryAccuracy: 0.451, BinaryAUROC: 0.5)\n",
      "|  Epoch 34: Train loss: 0.696 (BinaryAccuracy: 0.508, BinaryAUROC: 0.5)  Valid loss: 0.686 (BinaryAccuracy: 0.451, BinaryAUROC: 0.5)\n",
      "|  Epoch 35: Train loss: 0.697 (BinaryAccuracy: 0.499, BinaryAUROC: 0.5)  Valid loss: 0.686 (BinaryAccuracy: 0.451, BinaryAUROC: 0.5)\n",
      "|  Epoch 36: Train loss: 0.693 (BinaryAccuracy: 0.522, BinaryAUROC: 0.5)  Valid loss: 0.685 (BinaryAccuracy: 0.451, BinaryAUROC: 0.5)\n",
      "|  Epoch 37: Train loss: 0.699 (BinaryAccuracy: 0.489, BinaryAUROC: 0.5)  Valid loss: 0.686 (BinaryAccuracy: 0.451, BinaryAUROC: 0.5)\n",
      "|  Epoch 38: Train loss: 0.697 (BinaryAccuracy: 0.5, BinaryAUROC: 0.5)  Valid loss: 0.687 (BinaryAccuracy: 0.451, BinaryAUROC: 0.5)\n",
      "|  Epoch 39: Train loss: 0.696 (BinaryAccuracy: 0.505, BinaryAUROC: 0.5)  Valid loss: 0.686 (BinaryAccuracy: 0.451, BinaryAUROC: 0.5)\n",
      "|  Epoch 40: Train loss: 0.698 (BinaryAccuracy: 0.494, BinaryAUROC: 0.5)  Valid loss: 0.686 (BinaryAccuracy: 0.451, BinaryAUROC: 0.5)\n",
      "|  Epoch 41: Train loss: 0.697 (BinaryAccuracy: 0.496, BinaryAUROC: 0.5)  Valid loss: 0.686 (BinaryAccuracy: 0.451, BinaryAUROC: 0.5)\n",
      "|  Epoch 42: Train loss: 0.696 (BinaryAccuracy: 0.502, BinaryAUROC: 0.5)  Valid loss: 0.686 (BinaryAccuracy: 0.451, BinaryAUROC: 0.5)\n",
      "|  Epoch 43: Train loss: 0.697 (BinaryAccuracy: 0.497, BinaryAUROC: 0.5)  Valid loss: 0.686 (BinaryAccuracy: 0.451, BinaryAUROC: 0.5)\n",
      "|  Epoch 44: Train loss: 0.694 (BinaryAccuracy: 0.509, BinaryAUROC: 0.5)  Valid loss: 0.686 (BinaryAccuracy: 0.451, BinaryAUROC: 0.5)\n",
      "|  Epoch 45: Train loss: 0.696 (BinaryAccuracy: 0.497, BinaryAUROC: 0.5)  Valid loss: 0.687 (BinaryAccuracy: 0.451, BinaryAUROC: 0.5)\n",
      "|  Epoch 46: Train loss: 0.696 (BinaryAccuracy: 0.5, BinaryAUROC: 0.5)  Valid loss: 0.687 (BinaryAccuracy: 0.451, BinaryAUROC: 0.5)\n",
      "|  Epoch 47: Train loss: 0.694 (BinaryAccuracy: 0.514, BinaryAUROC: 0.5)  Valid loss: 0.686 (BinaryAccuracy: 0.451, BinaryAUROC: 0.5)\n",
      "|  Epoch 48: Train loss: 0.698 (BinaryAccuracy: 0.487, BinaryAUROC: 0.5)  Valid loss: 0.686 (BinaryAccuracy: 0.451, BinaryAUROC: 0.5)\n",
      "|  Epoch 49: Train loss: 0.697 (BinaryAccuracy: 0.487, BinaryAUROC: 0.5)  Valid loss: 0.687 (BinaryAccuracy: 0.451, BinaryAUROC: 0.5)\n",
      "|  Epoch 50: Train loss: 0.694 (BinaryAccuracy: 0.507, BinaryAUROC: 0.5)  Valid loss: 0.686 (BinaryAccuracy: 0.451, BinaryAUROC: 0.5)\n",
      "|  Epoch 51: Train loss: 0.696 (BinaryAccuracy: 0.495, BinaryAUROC: 0.5)  Valid loss: 0.687 (BinaryAccuracy: 0.451, BinaryAUROC: 0.5)\n",
      "|  Epoch 52: Train loss: 0.694 (BinaryAccuracy: 0.506, BinaryAUROC: 0.5)  Valid loss: 0.686 (BinaryAccuracy: 0.451, BinaryAUROC: 0.5)\n",
      "|  Epoch 53: Train loss: 0.691 (BinaryAccuracy: 0.533, BinaryAUROC: 0.5)  Valid loss: 0.687 (BinaryAccuracy: 0.451, BinaryAUROC: 0.5)\n",
      "|  Epoch 54: Train loss: 0.698 (BinaryAccuracy: 0.476, BinaryAUROC: 0.5)  Valid loss: 0.688 (BinaryAccuracy: 0.451, BinaryAUROC: 0.5)\n",
      "|  Epoch 55: Train loss: 0.694 (BinaryAccuracy: 0.51, BinaryAUROC: 0.5)  Valid loss: 0.689 (BinaryAccuracy: 0.451, BinaryAUROC: 0.5)\n",
      "|  Epoch 56: Train loss: 0.695 (BinaryAccuracy: 0.494, BinaryAUROC: 0.5)  Valid loss: 0.688 (BinaryAccuracy: 0.451, BinaryAUROC: 0.5)\n",
      "|  Epoch 57: Train loss: 0.697 (BinaryAccuracy: 0.481, BinaryAUROC: 0.5)  Valid loss: 0.688 (BinaryAccuracy: 0.451, BinaryAUROC: 0.5)\n",
      "|  Epoch 58: Train loss: 0.695 (BinaryAccuracy: 0.495, BinaryAUROC: 0.5)  Valid loss: 0.69 (BinaryAccuracy: 0.451, BinaryAUROC: 0.5)\n",
      "|  Epoch 59: Train loss: 0.695 (BinaryAccuracy: 0.494, BinaryAUROC: 0.5)  Valid loss: 0.688 (BinaryAccuracy: 0.451, BinaryAUROC: 0.5)\n",
      "|  Epoch 60: Train loss: 0.696 (BinaryAccuracy: 0.483, BinaryAUROC: 0.5)  Valid loss: 0.69 (BinaryAccuracy: 0.451, BinaryAUROC: 0.5)\n",
      "------------------------------------------------\n",
      "Using Epoch 1 for testing...\n",
      "Test loss: 0.695\n",
      "Test BinaryAccuracy: 0.475\n",
      "Test BinaryAUROC: 0.5\n"
     ]
    },
    {
     "data": {
      "text/plain": [
       "[]"
      ]
     },
     "execution_count": 4,
     "metadata": {},
     "output_type": "execute_result"
    }
   ],
   "source": [
    "d = 300\n",
    "model = SetRepClassifier(8, 16, d, 2)\n",
    "\n",
    "optimizer = torch.optim.Adam(model.parameters(), lr=0.0001)\n",
    "scheduler = torch.optim.lr_scheduler.ExponentialLR(optimizer, gamma=0.9)\n",
    "criterion = torch.nn.NLLLoss()\n",
    "\n",
    "trainer = TorchTrainer(\n",
    "    model,\n",
    "    optimizer,\n",
    "    criterion,\n",
    "    60,\n",
    "    [BinaryAccuracy(), BinaryAUROC()],\n",
    "    [BinaryAccuracy(), BinaryAUROC()],\n",
    "    [BinaryAccuracy(), BinaryAUROC()],\n",
    "    # scheduler=scheduler,\n",
    "    monitor_metric=1,\n",
    "    monitor_lower_is_better=False\n",
    ")\n",
    "\n",
    "trainer.train(train_loader, valid_loader)\n",
    "trainer.test(test_loader)"
   ]
  },
  {
   "attachments": {},
   "cell_type": "markdown",
   "metadata": {},
   "source": [
    "## Regression"
   ]
  },
  {
   "cell_type": "code",
   "execution_count": 26,
   "metadata": {},
   "outputs": [],
   "source": [
    "train, valid, test = molnet_loader(\"delaney\", splitter=\"random\")\n",
    "enc = Mol2SetEncoder()\n",
    "\n",
    "train_dataset = enc.encode(train.ids, [y[0] for y in train.y], label_dtype=torch.float)\n",
    "valid_dataset = enc.encode(valid.ids, [y[0] for y in valid.y], label_dtype=torch.float)\n",
    "test_dataset = enc.encode(test.ids, [y[0] for y in test.y], label_dtype=torch.float)\n",
    "\n",
    "train_loader = DataLoader(train_dataset, batch_size=64)\n",
    "valid_loader = DataLoader(valid_dataset, batch_size=64)\n",
    "test_loader = DataLoader(test_dataset, batch_size=64)"
   ]
  },
  {
   "cell_type": "code",
   "execution_count": null,
   "metadata": {},
   "outputs": [],
   "source": [
    "d = 300\n",
    "model = SetRepRegressor(100, 16, d)\n",
    "\n",
    "optimizer = torch.optim.Adam(model.parameters(), lr=0.001)\n",
    "scheduler = torch.optim.lr_scheduler.ExponentialLR(optimizer, gamma=0.95)\n",
    "criterion = torch.nn.MSELoss()\n",
    "\n",
    "trainer = TorchTrainer(\n",
    "    model,\n",
    "    optimizer,\n",
    "    criterion,\n",
    "    200,\n",
    "    [R2Score(), MeanSquaredError(squared=False), MeanAbsoluteError()],\n",
    "    [R2Score(), MeanSquaredError(squared=False), MeanAbsoluteError()],\n",
    "    [R2Score(), MeanSquaredError(squared=False), MeanAbsoluteError()],\n",
    "    scheduler=scheduler,\n",
    "    monitor_metric=1,\n",
    "    monitor_lower_is_better=True\n",
    ")\n",
    "\n",
    "trainer.train(train_loader, valid_loader)\n",
    "trainer.test(test_loader)"
   ]
  }
 ],
 "metadata": {
  "kernelspec": {
   "display_name": "molsetrep",
   "language": "python",
   "name": "python3"
  },
  "language_info": {
   "codemirror_mode": {
    "name": "ipython",
    "version": 3
   },
   "file_extension": ".py",
   "mimetype": "text/x-python",
   "name": "python",
   "nbconvert_exporter": "python",
   "pygments_lexer": "ipython3",
   "version": "3.9.16"
  },
  "orig_nbformat": 4
 },
 "nbformat": 4,
 "nbformat_minor": 2
}
